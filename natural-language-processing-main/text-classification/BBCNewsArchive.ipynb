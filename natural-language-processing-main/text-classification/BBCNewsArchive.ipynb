{
 "cells": [
  {
   "cell_type": "code",
   "execution_count": 30,
   "metadata": {
    "collapsed": true
   },
   "outputs": [],
   "source": [
    "import tensorflow as tf\n",
    "import pandas as pd\n",
    "import numpy as np\n",
    "from sklearn.model_selection import train_test_split\n",
    "import matplotlib.pyplot as plt\n",
    "import io"
   ]
  },
  {
   "cell_type": "markdown",
   "source": [
    "## 1. Load dataset\n",
    "\n",
    "- BBC dataset : 2225 articles, each labeled under one of 5 categories: business, entertainment, politics, sport or tech.\n",
    "    - Dataset is broken into 1490 records for training and 735 for testing\n",
    "- Goal : Build a system that can accurately classify previously unseen news articles into the right category"
   ],
   "metadata": {
    "collapsed": false
   }
  },
  {
   "cell_type": "code",
   "execution_count": 2,
   "outputs": [
    {
     "data": {
      "text/plain": "        category                                               text\n0           tech  tv future in the hands of viewers with home th...\n1       business  worldcom boss  left books alone  former worldc...\n2          sport  tigers wary of farrell  gamble  leicester say ...\n3          sport  yeading face newcastle in fa cup premiership s...\n4  entertainment  ocean s twelve raids box office ocean s twelve...",
      "text/html": "<div>\n<style scoped>\n    .dataframe tbody tr th:only-of-type {\n        vertical-align: middle;\n    }\n\n    .dataframe tbody tr th {\n        vertical-align: top;\n    }\n\n    .dataframe thead th {\n        text-align: right;\n    }\n</style>\n<table border=\"1\" class=\"dataframe\">\n  <thead>\n    <tr style=\"text-align: right;\">\n      <th></th>\n      <th>category</th>\n      <th>text</th>\n    </tr>\n  </thead>\n  <tbody>\n    <tr>\n      <th>0</th>\n      <td>tech</td>\n      <td>tv future in the hands of viewers with home th...</td>\n    </tr>\n    <tr>\n      <th>1</th>\n      <td>business</td>\n      <td>worldcom boss  left books alone  former worldc...</td>\n    </tr>\n    <tr>\n      <th>2</th>\n      <td>sport</td>\n      <td>tigers wary of farrell  gamble  leicester say ...</td>\n    </tr>\n    <tr>\n      <th>3</th>\n      <td>sport</td>\n      <td>yeading face newcastle in fa cup premiership s...</td>\n    </tr>\n    <tr>\n      <th>4</th>\n      <td>entertainment</td>\n      <td>ocean s twelve raids box office ocean s twelve...</td>\n    </tr>\n  </tbody>\n</table>\n</div>"
     },
     "metadata": {},
     "output_type": "display_data"
    },
    {
     "name": "stdout",
     "output_type": "stream",
     "text": [
      "(2225,) (2225,)\n"
     ]
    }
   ],
   "source": [
    "# Load dataset\n",
    "df = pd.read_csv('Datasets/bbc-text.csv')\n",
    "display(df.head())\n",
    "\n",
    "news_labels = df.iloc[:,0].values\n",
    "news_text_orig = df.iloc[:,1].values\n",
    "print(news_labels.shape,news_text_orig.shape)"
   ],
   "metadata": {
    "collapsed": false
   }
  },
  {
   "cell_type": "markdown",
   "source": [
    "##### Remove stopwords\n",
    "\n",
    "- One important step when working with text data is to remove the stopwords from it. These are the most common words in the language and they rarely provide useful information for the classification process."
   ],
   "metadata": {
    "collapsed": false
   }
  },
  {
   "cell_type": "code",
   "execution_count": 3,
   "outputs": [
    {
     "name": "stdout",
     "output_type": "stream",
     "text": [
      "Check =>  go store get snack\n"
     ]
    }
   ],
   "source": [
    "def remove_stopwords(sentence):\n",
    "    stopwords = [\"a\", \"about\", \"above\", \"after\", \"again\", \"against\", \"all\", \"am\", \"an\", \"and\", \"any\", \"are\", \"as\", \"at\", \"be\", \"because\", \"been\", \"before\", \"being\", \"below\", \"between\", \"both\", \"but\", \"by\", \"could\", \"did\", \"do\", \"does\", \"doing\", \"down\", \"during\", \"each\", \"few\", \"for\", \"from\", \"further\", \"had\", \"has\", \"have\", \"having\", \"he\", \"he'd\", \"he'll\", \"he's\", \"her\", \"here\", \"here's\", \"hers\", \"herself\", \"him\", \"himself\", \"his\", \"how\", \"how's\", \"i\", \"i'd\", \"i'll\", \"i'm\", \"i've\", \"if\", \"in\", \"into\", \"is\", \"it\", \"it's\", \"its\", \"itself\", \"let's\", \"me\", \"more\", \"most\", \"my\", \"myself\", \"nor\", \"of\", \"on\", \"once\", \"only\", \"or\", \"other\", \"ought\", \"our\", \"ours\", \"ourselves\", \"out\", \"over\", \"own\", \"same\", \"she\", \"she'd\", \"she'll\", \"she's\", \"should\", \"so\", \"some\", \"such\", \"than\", \"that\", \"that's\", \"the\", \"their\", \"theirs\", \"them\", \"themselves\", \"then\", \"there\", \"there's\", \"these\", \"they\", \"they'd\", \"they'll\", \"they're\", \"they've\", \"this\", \"those\", \"through\", \"to\", \"too\", \"under\", \"until\", \"up\", \"very\", \"was\", \"we\", \"we'd\", \"we'll\", \"we're\", \"we've\", \"were\", \"what\", \"what's\", \"when\", \"when's\", \"where\", \"where's\", \"which\", \"while\", \"who\", \"who's\", \"whom\", \"why\", \"why's\", \"with\", \"would\", \"you\", \"you'd\", \"you'll\", \"you're\", \"you've\", \"your\", \"yours\", \"yourself\", \"yourselves\" ]\n",
    "\n",
    "    sentence = sentence.lower()\n",
    "    result = ''\n",
    "    for word in sentence.split():\n",
    "        if word not in stopwords:\n",
    "            result += word + ' '\n",
    "    return result.strip()   #remove leading and trailing whitespaces\n",
    "\n",
    "print(\"Check => \",remove_stopwords(\"I am about to go to the store and get some snack\"))"
   ],
   "metadata": {
    "collapsed": false
   }
  },
  {
   "cell_type": "code",
   "execution_count": 4,
   "outputs": [
    {
     "name": "stdout",
     "output_type": "stream",
     "text": [
      "(2225,) (2225,)\n",
      "737 436\n"
     ]
    }
   ],
   "source": [
    "news_text = []\n",
    "for txt in news_text_orig:\n",
    "    news_text.append(remove_stopwords(txt))\n",
    "news_text = np.array(news_text)\n",
    "print(news_text_orig.shape,news_text.shape)\n",
    "print(len(news_text_orig[0].split()),len(news_text[0].split()))"
   ],
   "metadata": {
    "collapsed": false
   }
  },
  {
   "cell_type": "code",
   "execution_count": 6,
   "outputs": [
    {
     "name": "stdout",
     "output_type": "stream",
     "text": [
      "Train =>  (1780,) (1780,)\n",
      "Test =>  (445,) (445,)\n"
     ]
    }
   ],
   "source": [
    "news_text_train, news_text_test, news_labels_train, news_labels_test = train_test_split(news_text,\n",
    "                                                                                        news_labels,\n",
    "                                                                                        test_size=0.2)\n",
    "news_text_train = np.array(news_text_train)\n",
    "news_labels_train = np.array(news_labels_train)\n",
    "news_text_test = np.array(news_text_test)\n",
    "news_labels_test = np.array(news_labels_test)\n",
    "print(\"Train => \",news_text_train.shape,news_labels_train.shape)\n",
    "print(\"Test => \",news_text_test.shape,news_labels_test.shape)"
   ],
   "metadata": {
    "collapsed": false
   }
  },
  {
   "cell_type": "markdown",
   "source": [
    "## 2. Text preprocessing"
   ],
   "metadata": {
    "collapsed": false
   }
  },
  {
   "cell_type": "code",
   "execution_count": 11,
   "outputs": [
    {
     "name": "stdout",
     "output_type": "stream",
     "text": [
      "30001\n",
      "tf.Tensor(\n",
      "[[ 2853  2612 16351 ...   968    90   156]\n",
      " [ 1034  4776   297 ...  8970  8897  2687]\n",
      " [  222  2584   598 ...  4444  2103  8795]\n",
      " ...\n",
      " [   78  2282  3460 ...     2  7328   683]\n",
      " [ 6424    68   137 ...   159   497   254]\n",
      " [   97  1752  1315 ...  3314    81    17]], shape=(1780, 120), dtype=int64)\n",
      "(445, 120)\n"
     ]
    }
   ],
   "source": [
    "vec_layer_text = tf.keras.layers.TextVectorization(#max_tokens = 1000,\n",
    "                                                   output_mode='int',\n",
    "                                                   output_sequence_length=120)\n",
    "vec_layer_text.adapt(news_text_train)\n",
    "vectorized_news_text_train = vec_layer_text(news_text_train)\n",
    "vectorized_news_text_test = vec_layer_text(news_text_test)\n",
    "print(vec_layer_text.vocabulary_size())\n",
    "print(vectorized_news_text_train)\n",
    "print(vectorized_news_text_test.shape)"
   ],
   "metadata": {
    "collapsed": false
   }
  },
  {
   "cell_type": "code",
   "execution_count": 25,
   "outputs": [
    {
     "name": "stdout",
     "output_type": "stream",
     "text": [
      "7\n",
      "Labels =====>  ['', '[UNK]', 'sport', 'business', 'tech', 'politics', 'entertainment']\n",
      "tf.Tensor(\n",
      "[[4]\n",
      " [5]\n",
      " [5]\n",
      " ...\n",
      " [5]\n",
      " [6]\n",
      " [2]], shape=(1780, 1), dtype=int64)\n",
      "(445, 1)\n"
     ]
    }
   ],
   "source": [
    "vec_layer_label = tf.keras.layers.TextVectorization()\n",
    "vec_layer_label.adapt(news_labels_train)\n",
    "vectorized_news_labels_train  = vec_layer_label(news_labels_train)\n",
    "vectorized_news_labels_test  = vec_layer_label(news_labels_test)\n",
    "print(vec_layer_label.vocabulary_size())\n",
    "print(\"Labels =====> \",vec_layer_label.get_vocabulary())\n",
    "print(vectorized_news_labels_train)\n",
    "print(vectorized_news_labels_test.shape)"
   ],
   "metadata": {
    "collapsed": false
   }
  },
  {
   "cell_type": "markdown",
   "source": [
    "## 3. Model : Build, compile and train"
   ],
   "metadata": {
    "collapsed": false
   }
  },
  {
   "cell_type": "code",
   "execution_count": 26,
   "outputs": [
    {
     "name": "stdout",
     "output_type": "stream",
     "text": [
      "Model: \"sequential_4\"\n",
      "_________________________________________________________________\n",
      " Layer (type)                Output Shape              Param #   \n",
      "=================================================================\n",
      " embedding_4 (Embedding)     (None, 120, 16)           480016    \n",
      "                                                                 \n",
      " flatten_4 (Flatten)         (None, 1920)              0         \n",
      "                                                                 \n",
      " dense_8 (Dense)             (None, 6)                 11526     \n",
      "                                                                 \n",
      " dense_9 (Dense)             (None, 7)                 49        \n",
      "                                                                 \n",
      "=================================================================\n",
      "Total params: 491,591\n",
      "Trainable params: 491,591\n",
      "Non-trainable params: 0\n",
      "_________________________________________________________________\n"
     ]
    }
   ],
   "source": [
    "bbc_model = tf.keras.Sequential([\n",
    "    tf.keras.layers.Embedding(input_dim=vec_layer_text.vocabulary_size(),output_dim=16,input_length=120),\n",
    "\n",
    "    tf.keras.layers.Flatten(), #tf.keras.layers.GlobalAveragePooling1D(),\n",
    "    tf.keras.layers.Dense(units=6,activation='relu'),\n",
    "    tf.keras.layers.Dense(units=vec_layer_label.vocabulary_size(),activation='softmax')\n",
    "])\n",
    "\n",
    "bbc_model.compile(optimizer='adam',\n",
    "                   loss='sparse_categorical_crossentropy',\n",
    "                   metrics=['accuracy'])\n",
    "\n",
    "bbc_model.summary()"
   ],
   "metadata": {
    "collapsed": false
   }
  },
  {
   "cell_type": "code",
   "execution_count": 27,
   "outputs": [
    {
     "name": "stdout",
     "output_type": "stream",
     "text": [
      "Epoch 1/20\n",
      "56/56 [==============================] - 1s 9ms/step - loss: 1.9137 - accuracy: 0.2416 - val_loss: 1.8720 - val_accuracy: 0.2966\n",
      "Epoch 2/20\n",
      "56/56 [==============================] - 0s 5ms/step - loss: 1.6660 - accuracy: 0.4506 - val_loss: 1.5670 - val_accuracy: 0.3416\n",
      "Epoch 3/20\n",
      "56/56 [==============================] - 0s 4ms/step - loss: 1.0544 - accuracy: 0.8174 - val_loss: 0.9410 - val_accuracy: 0.8315\n",
      "Epoch 4/20\n",
      "56/56 [==============================] - 0s 4ms/step - loss: 0.4296 - accuracy: 0.9871 - val_loss: 0.5220 - val_accuracy: 0.9213\n",
      "Epoch 5/20\n",
      "56/56 [==============================] - 0s 4ms/step - loss: 0.1470 - accuracy: 1.0000 - val_loss: 0.3432 - val_accuracy: 0.9438\n",
      "Epoch 6/20\n",
      "56/56 [==============================] - 0s 4ms/step - loss: 0.0586 - accuracy: 1.0000 - val_loss: 0.2766 - val_accuracy: 0.9438\n",
      "Epoch 7/20\n",
      "56/56 [==============================] - 0s 4ms/step - loss: 0.0303 - accuracy: 1.0000 - val_loss: 0.2442 - val_accuracy: 0.9438\n",
      "Epoch 8/20\n",
      "56/56 [==============================] - 0s 4ms/step - loss: 0.0188 - accuracy: 1.0000 - val_loss: 0.2243 - val_accuracy: 0.9506\n",
      "Epoch 9/20\n",
      "56/56 [==============================] - 0s 4ms/step - loss: 0.0129 - accuracy: 1.0000 - val_loss: 0.2105 - val_accuracy: 0.9506\n",
      "Epoch 10/20\n",
      "56/56 [==============================] - 0s 4ms/step - loss: 0.0095 - accuracy: 1.0000 - val_loss: 0.2011 - val_accuracy: 0.9506\n",
      "Epoch 11/20\n",
      "56/56 [==============================] - 0s 4ms/step - loss: 0.0072 - accuracy: 1.0000 - val_loss: 0.1932 - val_accuracy: 0.9506\n",
      "Epoch 12/20\n",
      "56/56 [==============================] - 0s 5ms/step - loss: 0.0057 - accuracy: 1.0000 - val_loss: 0.1878 - val_accuracy: 0.9528\n",
      "Epoch 13/20\n",
      "56/56 [==============================] - 0s 4ms/step - loss: 0.0047 - accuracy: 1.0000 - val_loss: 0.1823 - val_accuracy: 0.9551\n",
      "Epoch 14/20\n",
      "56/56 [==============================] - 0s 4ms/step - loss: 0.0039 - accuracy: 1.0000 - val_loss: 0.1790 - val_accuracy: 0.9551\n",
      "Epoch 15/20\n",
      "56/56 [==============================] - 0s 4ms/step - loss: 0.0033 - accuracy: 1.0000 - val_loss: 0.1757 - val_accuracy: 0.9551\n",
      "Epoch 16/20\n",
      "56/56 [==============================] - 0s 4ms/step - loss: 0.0028 - accuracy: 1.0000 - val_loss: 0.1726 - val_accuracy: 0.9573\n",
      "Epoch 17/20\n",
      "56/56 [==============================] - 0s 4ms/step - loss: 0.0024 - accuracy: 1.0000 - val_loss: 0.1700 - val_accuracy: 0.9573\n",
      "Epoch 18/20\n",
      "56/56 [==============================] - 0s 4ms/step - loss: 0.0021 - accuracy: 1.0000 - val_loss: 0.1678 - val_accuracy: 0.9573\n",
      "Epoch 19/20\n",
      "56/56 [==============================] - 0s 4ms/step - loss: 0.0018 - accuracy: 1.0000 - val_loss: 0.1658 - val_accuracy: 0.9573\n",
      "Epoch 20/20\n",
      "56/56 [==============================] - 0s 4ms/step - loss: 0.0016 - accuracy: 1.0000 - val_loss: 0.1640 - val_accuracy: 0.9596\n"
     ]
    }
   ],
   "source": [
    "bbc_model_hist = bbc_model.fit(x=vectorized_news_text_train, y=vectorized_news_labels_train,\n",
    "               epochs=20,\n",
    "               validation_data=(vectorized_news_text_test,vectorized_news_labels_test))"
   ],
   "metadata": {
    "collapsed": false
   }
  },
  {
   "cell_type": "markdown",
   "source": [
    "## 4. Visualize Results, Word Embeddings\n",
    "\n",
    "- [Embedding projector](https://projector.tensorflow.org/) : Visualize the trained weights in the Embedding layer to see words that are clustered together"
   ],
   "metadata": {
    "collapsed": false
   }
  },
  {
   "cell_type": "code",
   "execution_count": 28,
   "outputs": [
    {
     "data": {
      "text/plain": "<Figure size 640x480 with 1 Axes>",
      "image/png": "[encoded data removed]"
     },
     "metadata": {},
     "output_type": "display_data"
    },
    {
     "data": {
      "text/plain": "<Figure size 640x480 with 1 Axes>",
      "image/png": "[encoded data removed]"
     },
     "metadata": {},
     "output_type": "display_data"
    }
   ],
   "source": [
    "def plot_graphs(model_hist, string):\n",
    "  plt.plot(model_hist.history[string])\n",
    "  plt.plot(model_hist.history['val_'+string])\n",
    "  plt.xlabel(\"Epochs\")\n",
    "  plt.ylabel(string)\n",
    "  plt.legend([string, 'val_'+string])\n",
    "  plt.show()\n",
    "\n",
    "# Plot the accuracy and loss\n",
    "plot_graphs(bbc_model_hist, \"accuracy\")\n",
    "plot_graphs(bbc_model_hist, \"loss\")"
   ],
   "metadata": {
    "collapsed": false
   }
  },
  {
   "cell_type": "code",
   "execution_count": 29,
   "outputs": [],
   "source": [
    "embedding_layer = bbc_model.layers[0]\n",
    "embeddings = embedding_layer.get_weights()[0] #(input_dim rows,output_dim cols)\n",
    "vocabulary = vec_layer_text.get_vocabulary()"
   ],
   "metadata": {
    "collapsed": false
   }
  },
  {
   "cell_type": "code",
   "execution_count": 31,
   "outputs": [],
   "source": [
    "out_v = io.open('Models/C3W2_BBCNews/bbc_vectors.tsv', 'w', encoding='utf-8')\n",
    "out_m = io.open('Models/C3W2_BBCNews/bbc_metadata.tsv', 'w', encoding='utf-8')\n",
    "\n",
    "for i in range(2,len(vocabulary)):\n",
    "  if i <= 1 :\n",
    "    continue  # skip 0, it's padding. skip 1, its OOV\n",
    "  vec = embeddings[i]\n",
    "  word = vocabulary[i]\n",
    "  out_v.write('\\t'.join([str(x) for x in vec]) + \"\\n\")\n",
    "  out_m.write(word + \"\\n\")\n",
    "\n",
    "out_v.close()\n",
    "out_m.close()"
   ],
   "metadata": {
    "collapsed": false
   }
  },
  {
   "cell_type": "markdown",
   "source": [
    "Upload the .tsv files to [Embedding Projector](https://projector.tensorflow.org/) to visualize"
   ],
   "metadata": {
    "collapsed": false
   }
  },
  {
   "cell_type": "code",
   "execution_count": null,
   "outputs": [],
   "source": [],
   "metadata": {
    "collapsed": false
   }
  }
 ],
 "metadata": {
  "kernelspec": {
   "display_name": "Python 3",
   "language": "python",
   "name": "python3"
  },
  "language_info": {
   "codemirror_mode": {
    "name": "ipython",
    "version": 2
   },
   "file_extension": ".py",
   "mimetype": "text/x-python",
   "name": "python",
   "nbconvert_exporter": "python",
   "pygments_lexer": "ipython2",
   "version": "2.7.6"
  }
 },
 "nbformat": 4,
 "nbformat_minor": 0
}
