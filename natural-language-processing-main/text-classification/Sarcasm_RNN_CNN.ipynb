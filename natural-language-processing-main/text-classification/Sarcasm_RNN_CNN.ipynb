{
 "nbformat": 4,
 "nbformat_minor": 0,
 "metadata": {
  "colab": {
   "provenance": [],
   "authorship_tag": "ABX9TyPxVS77eDQ4mNjCwpdNr7es"
  },
  "kernelspec": {
   "name": "python3",
   "display_name": "Python 3"
  },
  "language_info": {
   "name": "python"
  }
 },
 "cells": [
  {
   "cell_type": "code",
   "execution_count": 1,
   "metadata": {
    "colab": {
     "base_uri": "https://localhost:8080/"
    },
    "id": "KnMNgVASB1e6",
    "executionInfo": {
     "status": "ok",
     "timestamp": 1666196389334,
     "user_tz": -330,
     "elapsed": 25804,
     "user": {
      "displayName": "Reshma T",
      "userId": "00141722778450842601"
     }
    },
    "outputId": "86375414-0942-4954-d972-70d9367ca1ca"
   },
   "outputs": [
    {
     "output_type": "stream",
     "name": "stdout",
     "text": [
      "Mounted at /content/gdrive/\n"
     ]
    }
   ],
   "source": [
    "#from google.colab import drive\n",
    "#drive.mount('/content/gdrive/')"
   ]
  },
  {
   "cell_type": "code",
   "source": [
    "import tensorflow as tf\n",
    "import json\n",
    "import numpy as np\n",
    "from sklearn.model_selection import train_test_split\n",
    "import matplotlib.pyplot as plt"
   ],
   "metadata": {
    "id": "qPd7aPCiCqug",
    "executionInfo": {
     "status": "ok",
     "timestamp": 1666196615040,
     "user_tz": -330,
     "elapsed": 512,
     "user": {
      "displayName": "Reshma T",
      "userId": "00141722778450842601"
     }
    }
   },
   "execution_count": 12,
   "outputs": []
  },
  {
   "cell_type": "markdown",
   "source": [
    "### Load dataset"
   ],
   "metadata": {
    "collapsed": false
   }
  },
  {
   "cell_type": "code",
   "source": [
    "# Download the dataset\n",
    "!wget https://storage.googleapis.com/tensorflow-1-public/course3/sarcasm.json -O \"/content/gdrive/MyDrive/AI/GoogleMLDevelopersBootcampEurope/TF/Datasets/sarcasm.json\""
   ],
   "metadata": {
    "colab": {
     "base_uri": "https://localhost:8080/"
    },
    "id": "G6T_KkU1C1nU",
    "executionInfo": {
     "status": "ok",
     "timestamp": 1666196514159,
     "user_tz": -330,
     "elapsed": 384,
     "user": {
      "displayName": "Reshma T",
      "userId": "00141722778450842601"
     }
    },
    "outputId": "71401b7d-c663-4a3d-e8a9-764e32e229c5"
   },
   "execution_count": 6,
   "outputs": [
    {
     "output_type": "stream",
     "name": "stdout",
     "text": [
      "--2022-10-19 16:21:53--  https://storage.googleapis.com/tensorflow-1-public/course3/sarcasm.json\n",
      "Resolving storage.googleapis.com (storage.googleapis.com)... 142.251.2.128, 142.250.141.128, 2607:f8b0:4023:c0d::80\n",
      "Connecting to storage.googleapis.com (storage.googleapis.com)|142.251.2.128|:443... connected.\n",
      "HTTP request sent, awaiting response... 200 OK\n",
      "Length: 5643545 (5.4M) [application/json]\n",
      "Saving to: ‘/content/gdrive/MyDrive/AI/GoogleMLDevelopersBootcampEurope/TF/Datasets/sarcasm.json’\n",
      "\n",
      "\r          /content/   0%[                    ]       0  --.-KB/s               \r/content/gdrive/MyD 100%[===================>]   5.38M  --.-KB/s    in 0.1s    \n",
      "\n",
      "2022-10-19 16:21:53 (46.5 MB/s) - ‘/content/gdrive/MyDrive/AI/GoogleMLDevelopersBootcampEurope/TF/Datasets/sarcasm.json’ saved [5643545/5643545]\n",
      "\n"
     ]
    }
   ]
  },
  {
   "cell_type": "code",
   "source": [
    "# Load the JSON file\n",
    "with open(\"Datasets/sarcasm.json\", 'r') as f:\n",
    "    news_datastore = json.load(f)\n",
    "\n",
    "print(news_datastore[0])\n",
    "\n",
    "urls = []\n",
    "sentences = []\n",
    "labels = []\n",
    "\n",
    "for item in news_datastore:\n",
    "    urls.append(item['article_link'])\n",
    "    sentences.append(item['headline'])\n",
    "    labels.append(item['is_sarcastic'])\n",
    "\n",
    "print(len(sentences))"
   ],
   "metadata": {
    "colab": {
     "base_uri": "https://localhost:8080/"
    },
    "id": "xqKzu0FpDEBK",
    "executionInfo": {
     "status": "ok",
     "timestamp": 1666196553660,
     "user_tz": -330,
     "elapsed": 4,
     "user": {
      "displayName": "Reshma T",
      "userId": "00141722778450842601"
     }
    },
    "outputId": "8beb70a9-13ef-4ba2-848d-57597de84f95"
   },
   "execution_count": 8,
   "outputs": [
    {
     "output_type": "stream",
     "name": "stdout",
     "text": [
      "{'article_link': 'https://www.huffingtonpost.com/entry/versace-black-code_us_5861fbefe4b0de3a08f600d5', 'headline': \"former versace store clerk sues over secret 'black code' for minority shoppers\", 'is_sarcastic': 0}\n",
      "26709\n"
     ]
    }
   ]
  },
  {
   "cell_type": "code",
   "source": [
    "x_train, x_test, y_train, y_test = train_test_split(sentences,labels,test_size=0.251)\n",
    "x_train = np.array(x_train)\n",
    "y_train = np.array(y_train)\n",
    "x_test = np.array(x_test)\n",
    "y_test = np.array(y_test)\n",
    "print(\"Train => \",x_train.shape,y_train.shape)\n",
    "print(\"Test => \",x_test.shape,y_test.shape)"
   ],
   "metadata": {
    "colab": {
     "base_uri": "https://localhost:8080/"
    },
    "id": "DwtHb6euDYek",
    "executionInfo": {
     "status": "ok",
     "timestamp": 1666196626897,
     "user_tz": -330,
     "elapsed": 4,
     "user": {
      "displayName": "Reshma T",
      "userId": "00141722778450842601"
     }
    },
    "outputId": "2c953893-61e6-49a7-b5fc-9575dfe77ea5"
   },
   "execution_count": 13,
   "outputs": [
    {
     "output_type": "stream",
     "name": "stdout",
     "text": [
      "Train =>  (20005,) (20005,)\n",
      "Test =>  (6704,) (6704,)\n"
     ]
    }
   ]
  },
  {
   "cell_type": "markdown",
   "source": [
    "### Text preprocessing"
   ],
   "metadata": {
    "collapsed": false
   }
  },
  {
   "cell_type": "code",
   "source": [
    "vec_layer_sentence = tf.keras.layers.TextVectorization(max_tokens = 10000,\n",
    "                                                       output_mode='int',\n",
    "                                                       output_sequence_length=120)\n",
    "vec_layer_sentence.adapt(x_train)\n",
    "vectorized_x_train = vec_layer_sentence(x_train)\n",
    "vectorized_x_test = vec_layer_sentence(x_test)\n",
    "print(\"Vocab size = \",vec_layer_sentence.vocabulary_size())\n",
    "print(vectorized_x_train[0])\n",
    "print(vectorized_x_test[1])"
   ],
   "metadata": {
    "colab": {
     "base_uri": "https://localhost:8080/"
    },
    "id": "Rb2induRDgZE",
    "executionInfo": {
     "status": "ok",
     "timestamp": 1666197277028,
     "user_tz": -330,
     "elapsed": 1930,
     "user": {
      "displayName": "Reshma T",
      "userId": "00141722778450842601"
     }
    },
    "outputId": "24631b4b-6523-40e2-8fb6-8fe32a5fe8e5"
   },
   "execution_count": 15,
   "outputs": [
    {
     "output_type": "stream",
     "name": "stdout",
     "text": [
      "Vocab size =  10000\n",
      "tf.Tensor(\n",
      "[1335  125 1283   69 3781   86  812 1319    3    4   52    0    0    0\n",
      "    0    0    0    0    0    0    0    0    0    0    0    0    0    0\n",
      "    0    0    0    0    0    0    0    0    0    0    0    0    0    0\n",
      "    0    0    0    0    0    0    0    0    0    0    0    0    0    0\n",
      "    0    0    0    0    0    0    0    0    0    0    0    0    0    0\n",
      "    0    0    0    0    0    0    0    0    0    0    0    0    0    0\n",
      "    0    0    0    0    0    0    0    0    0    0    0    0    0    0\n",
      "    0    0    0    0    0    0    0    0    0    0    0    0    0    0\n",
      "    0    0    0    0    0    0    0    0], shape=(120,), dtype=int64)\n",
      "tf.Tensor(\n",
      "[  23   47 1308    1    1 7518 2362  198  287 1735  172 1256    0    0\n",
      "    0    0    0    0    0    0    0    0    0    0    0    0    0    0\n",
      "    0    0    0    0    0    0    0    0    0    0    0    0    0    0\n",
      "    0    0    0    0    0    0    0    0    0    0    0    0    0    0\n",
      "    0    0    0    0    0    0    0    0    0    0    0    0    0    0\n",
      "    0    0    0    0    0    0    0    0    0    0    0    0    0    0\n",
      "    0    0    0    0    0    0    0    0    0    0    0    0    0    0\n",
      "    0    0    0    0    0    0    0    0    0    0    0    0    0    0\n",
      "    0    0    0    0    0    0    0    0], shape=(120,), dtype=int64)\n"
     ]
    }
   ]
  },
  {
   "cell_type": "code",
   "source": [
    "def plot_graphs(model_hist, string):\n",
    "  plt.plot(model_hist.history[string])\n",
    "  plt.plot(model_hist.history['val_'+string])\n",
    "  plt.xlabel(\"Epochs\")\n",
    "  plt.ylabel(string)\n",
    "  plt.legend([string, 'val_'+string])\n",
    "  plt.show()"
   ],
   "metadata": {
    "id": "6GZmfGr7IZEC",
    "executionInfo": {
     "status": "ok",
     "timestamp": 1666198374342,
     "user_tz": -330,
     "elapsed": 575,
     "user": {
      "displayName": "Reshma T",
      "userId": "00141722778450842601"
     }
    }
   },
   "execution_count": 18,
   "outputs": []
  },
  {
   "cell_type": "markdown",
   "source": [
    "## Single-layer LSTM"
   ],
   "metadata": {
    "id": "aY0wx5suFf2v"
   }
  },
  {
   "cell_type": "code",
   "source": [
    "sarcasm_single_lstm_model = tf.keras.Sequential([\n",
    "    tf.keras.layers.Embedding(input_dim=10000,output_dim=16,input_length=120),\n",
    "\n",
    "    tf.keras.layers.Bidirectional(tf.keras.layers.LSTM(units=32)), #activation='tanh'\n",
    "\n",
    "    tf.keras.layers.Dense(units=24,activation='relu'),\n",
    "    tf.keras.layers.Dense(units=1,activation='sigmoid')\n",
    "])\n",
    "\n",
    "sarcasm_single_lstm_model.compile(optimizer='adam',\n",
    "                   loss='binary_crossentropy',\n",
    "                   metrics=['accuracy'])\n",
    "\n",
    "sarcasm_single_lstm_model.summary()"
   ],
   "metadata": {
    "colab": {
     "base_uri": "https://localhost:8080/"
    },
    "id": "CeV-8QAlFT-y",
    "executionInfo": {
     "status": "ok",
     "timestamp": 1666197770879,
     "user_tz": -330,
     "elapsed": 1481,
     "user": {
      "displayName": "Reshma T",
      "userId": "00141722778450842601"
     }
    },
    "outputId": "1cdc45a7-582b-4d7d-cc35-de0f9896dd92"
   },
   "execution_count": 16,
   "outputs": [
    {
     "output_type": "stream",
     "name": "stdout",
     "text": [
      "Model: \"sequential\"\n",
      "_________________________________________________________________\n",
      " Layer (type)                Output Shape              Param #   \n",
      "=================================================================\n",
      " embedding (Embedding)       (None, 120, 16)           160000    \n",
      "                                                                 \n",
      " bidirectional (Bidirectiona  (None, 64)               12544     \n",
      " l)                                                              \n",
      "                                                                 \n",
      " dense (Dense)               (None, 24)                1560      \n",
      "                                                                 \n",
      " dense_1 (Dense)             (None, 1)                 25        \n",
      "                                                                 \n",
      "=================================================================\n",
      "Total params: 174,129\n",
      "Trainable params: 174,129\n",
      "Non-trainable params: 0\n",
      "_________________________________________________________________\n"
     ]
    }
   ]
  },
  {
   "cell_type": "code",
   "source": [
    "sarcasm_single_lstm_model_hist = sarcasm_single_lstm_model.fit(x=vectorized_x_train, y=y_train,\n",
    "                                                               epochs=10,\n",
    "                                                               validation_data=(vectorized_x_test,y_test))"
   ],
   "metadata": {
    "colab": {
     "base_uri": "https://localhost:8080/"
    },
    "id": "-5yBnAWxIEpT",
    "executionInfo": {
     "status": "ok",
     "timestamp": 1666198343293,
     "user_tz": -330,
     "elapsed": 518397,
     "user": {
      "displayName": "Reshma T",
      "userId": "00141722778450842601"
     }
    },
    "outputId": "51117cad-7408-4fc6-c7a8-bc6dd23915dd"
   },
   "execution_count": 17,
   "outputs": [
    {
     "output_type": "stream",
     "name": "stdout",
     "text": [
      "Epoch 1/10\n",
      "626/626 [==============================] - 56s 84ms/step - loss: 0.4081 - accuracy: 0.8009 - val_loss: 0.3326 - val_accuracy: 0.8540\n",
      "Epoch 2/10\n",
      "626/626 [==============================] - 50s 79ms/step - loss: 0.2242 - accuracy: 0.9093 - val_loss: 0.3454 - val_accuracy: 0.8567\n",
      "Epoch 3/10\n",
      "626/626 [==============================] - 59s 94ms/step - loss: 0.1501 - accuracy: 0.9425 - val_loss: 0.3784 - val_accuracy: 0.8516\n",
      "Epoch 4/10\n",
      "626/626 [==============================] - 49s 78ms/step - loss: 0.0937 - accuracy: 0.9654 - val_loss: 0.4601 - val_accuracy: 0.8393\n",
      "Epoch 5/10\n",
      "626/626 [==============================] - 48s 76ms/step - loss: 0.0589 - accuracy: 0.9801 - val_loss: 0.5248 - val_accuracy: 0.8392\n",
      "Epoch 6/10\n",
      "626/626 [==============================] - 47s 76ms/step - loss: 0.0418 - accuracy: 0.9863 - val_loss: 0.7337 - val_accuracy: 0.8347\n",
      "Epoch 7/10\n",
      "626/626 [==============================] - 51s 81ms/step - loss: 0.0266 - accuracy: 0.9916 - val_loss: 0.9245 - val_accuracy: 0.8279\n",
      "Epoch 8/10\n",
      "626/626 [==============================] - 56s 90ms/step - loss: 0.0184 - accuracy: 0.9940 - val_loss: 0.8440 - val_accuracy: 0.8319\n",
      "Epoch 9/10\n",
      "626/626 [==============================] - 55s 87ms/step - loss: 0.0147 - accuracy: 0.9952 - val_loss: 1.0486 - val_accuracy: 0.8256\n",
      "Epoch 10/10\n",
      "626/626 [==============================] - 47s 75ms/step - loss: 0.0148 - accuracy: 0.9956 - val_loss: 1.0530 - val_accuracy: 0.8294\n"
     ]
    }
   ]
  },
  {
   "cell_type": "code",
   "source": [
    "plot_graphs(sarcasm_single_lstm_model_hist, \"accuracy\")\n",
    "plot_graphs(sarcasm_single_lstm_model_hist, \"loss\")"
   ],
   "metadata": {
    "colab": {
     "base_uri": "https://localhost:8080/",
     "height": 541
    },
    "id": "R39wx6GcISNL",
    "executionInfo": {
     "status": "ok",
     "timestamp": 1666198385672,
     "user_tz": -330,
     "elapsed": 1201,
     "user": {
      "displayName": "Reshma T",
      "userId": "00141722778450842601"
     }
    },
    "outputId": "87b73d27-551f-4e23-f239-6d75338da966"
   },
   "execution_count": 19,
   "outputs": [
    {
     "output_type": "display_data",
     "data": {
      "text/plain": [
       "<Figure size 432x288 with 1 Axes>"
      ],
      "image/png": "[encoded data removed]"
     },
     "metadata": {
      "needs_background": "light"
     }
    },
    {
     "output_type": "display_data",
     "data": {
      "text/plain": [
       "<Figure size 432x288 with 1 Axes>"
      ],
      "image/png": "[encoded data removed]"
     },
     "metadata": {
      "needs_background": "light"
     }
    }
   ]
  },
  {
   "cell_type": "markdown",
   "source": [
    "## CNN"
   ],
   "metadata": {
    "id": "4xxb9dvxIyQb"
   }
  },
  {
   "cell_type": "code",
   "source": [
    "sarcasm_cnn_model = tf.keras.Sequential([\n",
    "    tf.keras.layers.Embedding(input_dim=10000,output_dim=16,input_length=120),\n",
    "\n",
    "    tf.keras.layers.Conv1D(filters=128,kernel_size=5,activation='relu'),\n",
    "    tf.keras.layers.GlobalMaxPooling1D(),\n",
    "\n",
    "    tf.keras.layers.Dense(units=24,activation='relu'),\n",
    "    tf.keras.layers.Dense(units=1,activation='sigmoid')\n",
    "])\n",
    "\n",
    "sarcasm_cnn_model.compile(optimizer='adam',\n",
    "                   loss='binary_crossentropy',\n",
    "                   metrics=['accuracy'])\n",
    "\n",
    "sarcasm_cnn_model.summary()"
   ],
   "metadata": {
    "colab": {
     "base_uri": "https://localhost:8080/"
    },
    "id": "cuHU4HtzIzDW",
    "executionInfo": {
     "status": "ok",
     "timestamp": 1666198399949,
     "user_tz": -330,
     "elapsed": 592,
     "user": {
      "displayName": "Reshma T",
      "userId": "00141722778450842601"
     }
    },
    "outputId": "5b6f13f7-284b-47d7-c3aa-2093a11eebd0"
   },
   "execution_count": 20,
   "outputs": [
    {
     "output_type": "stream",
     "name": "stdout",
     "text": [
      "Model: \"sequential_1\"\n",
      "_________________________________________________________________\n",
      " Layer (type)                Output Shape              Param #   \n",
      "=================================================================\n",
      " embedding_1 (Embedding)     (None, 120, 16)           160000    \n",
      "                                                                 \n",
      " conv1d (Conv1D)             (None, 116, 128)          10368     \n",
      "                                                                 \n",
      " global_max_pooling1d (Globa  (None, 128)              0         \n",
      " lMaxPooling1D)                                                  \n",
      "                                                                 \n",
      " dense_2 (Dense)             (None, 24)                3096      \n",
      "                                                                 \n",
      " dense_3 (Dense)             (None, 1)                 25        \n",
      "                                                                 \n",
      "=================================================================\n",
      "Total params: 173,489\n",
      "Trainable params: 173,489\n",
      "Non-trainable params: 0\n",
      "_________________________________________________________________\n"
     ]
    }
   ]
  },
  {
   "cell_type": "code",
   "source": [
    "sarcasm_cnn_model_hist = sarcasm_cnn_model.fit(x=vectorized_x_train, y=y_train,\n",
    "                                               epochs=10,\n",
    "                                               validation_data=(vectorized_x_test,y_test))"
   ],
   "metadata": {
    "colab": {
     "base_uri": "https://localhost:8080/"
    },
    "id": "yoANZScoJyXw",
    "executionInfo": {
     "status": "ok",
     "timestamp": 1666198496210,
     "user_tz": -330,
     "elapsed": 91992,
     "user": {
      "displayName": "Reshma T",
      "userId": "00141722778450842601"
     }
    },
    "outputId": "cd690ef0-6010-4fb7-9bfb-d48d35cc3b13"
   },
   "execution_count": 21,
   "outputs": [
    {
     "output_type": "stream",
     "name": "stdout",
     "text": [
      "Epoch 1/10\n",
      "626/626 [==============================] - 10s 15ms/step - loss: 0.4547 - accuracy: 0.7652 - val_loss: 0.3575 - val_accuracy: 0.8419\n",
      "Epoch 2/10\n",
      "626/626 [==============================] - 9s 15ms/step - loss: 0.2361 - accuracy: 0.9048 - val_loss: 0.3603 - val_accuracy: 0.8502\n",
      "Epoch 3/10\n",
      "626/626 [==============================] - 9s 15ms/step - loss: 0.1234 - accuracy: 0.9562 - val_loss: 0.4422 - val_accuracy: 0.8462\n",
      "Epoch 4/10\n",
      "626/626 [==============================] - 9s 14ms/step - loss: 0.0552 - accuracy: 0.9826 - val_loss: 0.5627 - val_accuracy: 0.8404\n",
      "Epoch 5/10\n",
      "626/626 [==============================] - 9s 14ms/step - loss: 0.0209 - accuracy: 0.9944 - val_loss: 0.6991 - val_accuracy: 0.8364\n",
      "Epoch 6/10\n",
      "626/626 [==============================] - 9s 15ms/step - loss: 0.0086 - accuracy: 0.9976 - val_loss: 0.8430 - val_accuracy: 0.8347\n",
      "Epoch 7/10\n",
      "626/626 [==============================] - 9s 15ms/step - loss: 0.0041 - accuracy: 0.9989 - val_loss: 0.8883 - val_accuracy: 0.8317\n",
      "Epoch 8/10\n",
      "626/626 [==============================] - 9s 15ms/step - loss: 0.0019 - accuracy: 0.9996 - val_loss: 0.9957 - val_accuracy: 0.8276\n",
      "Epoch 9/10\n",
      "626/626 [==============================] - 9s 15ms/step - loss: 0.0012 - accuracy: 0.9996 - val_loss: 1.0799 - val_accuracy: 0.8270\n",
      "Epoch 10/10\n",
      "626/626 [==============================] - 9s 14ms/step - loss: 6.0873e-04 - accuracy: 0.9998 - val_loss: 1.1614 - val_accuracy: 0.8311\n"
     ]
    }
   ]
  },
  {
   "cell_type": "code",
   "source": [
    "plot_graphs(sarcasm_cnn_model_hist, \"accuracy\")\n",
    "plot_graphs(sarcasm_cnn_model_hist, \"loss\")"
   ],
   "metadata": {
    "colab": {
     "base_uri": "https://localhost:8080/",
     "height": 542
    },
    "id": "LoPVcAE8J4KP",
    "executionInfo": {
     "status": "ok",
     "timestamp": 1666198607965,
     "user_tz": -330,
     "elapsed": 711,
     "user": {
      "displayName": "Reshma T",
      "userId": "00141722778450842601"
     }
    },
    "outputId": "c0569ebc-7d86-4056-816f-fab5b6a3a529"
   },
   "execution_count": 22,
   "outputs": [
    {
     "output_type": "display_data",
     "data": {
      "text/plain": [
       "<Figure size 432x288 with 1 Axes>"
      ],
      "image/png": "[encoded data removed]"
     },
     "metadata": {
      "needs_background": "light"
     }
    },
    {
     "output_type": "display_data",
     "data": {
      "text/plain": [
       "<Figure size 432x288 with 1 Axes>"
      ],
      "image/png": "[encoded data removed]"
     },
     "metadata": {
      "needs_background": "light"
     }
    }
   ]
  }
 ]
}
