{
 "nbformat": 4,
 "nbformat_minor": 0,
 "metadata": {
  "colab": {
   "provenance": [],
   "collapsed_sections": [],
   "authorship_tag": "ABX9TyP9Eb6+jfGG11SiRBW8tyDZ"
  },
  "kernelspec": {
   "name": "python3",
   "display_name": "Python 3"
  },
  "language_info": {
   "name": "python"
  },
  "accelerator": "GPU",
  "gpuClass": "standard"
 },
 "cells": [
  {
   "cell_type": "code",
   "execution_count": 1,
   "metadata": {
    "colab": {
     "base_uri": "https://localhost:8080/"
    },
    "id": "DaRXEZTrKrqk",
    "executionInfo": {
     "status": "ok",
     "timestamp": 1666751265300,
     "user_tz": -330,
     "elapsed": 30519,
     "user": {
      "displayName": "Reshma T",
      "userId": "00141722778450842601"
     }
    },
    "outputId": "c0d7a482-b22b-45b1-9fb3-6661c9738cc7"
   },
   "outputs": [
    {
     "output_type": "stream",
     "name": "stdout",
     "text": [
      "Mounted at /content/gdrive/\n"
     ]
    }
   ],
   "source": [
    "#from google.colab import drive\n",
    "#drive.mount('/content/gdrive/')"
   ]
  },
  {
   "cell_type": "code",
   "source": [
    "import tensorflow as tf\n",
    "import pandas as pd\n",
    "import numpy as np\n",
    "from sklearn.model_selection import train_test_split\n",
    "import matplotlib.pyplot as plt"
   ],
   "metadata": {
    "id": "Th1zERyALcYs"
   },
   "execution_count": null,
   "outputs": []
  },
  {
   "cell_type": "markdown",
   "source": [
    "### Dataset\n",
    "\n",
    "- csv file\n",
    "- It is a variation of the Sentiment140 dataset, which contains 1.6 million tweets alongside their respective sentiment (0 for negative and 4 for positive)\n",
    "- Since it is huge, \n",
    "    - We need only first and last elements => target: the polarity of the tweet (0 = negative, 4 = positive), text\n",
    "    - We use only 10% of the data"
   ],
   "metadata": {
    "id": "fBpe-RQILpdp"
   }
  },
  {
   "cell_type": "code",
   "source": [
    "# Load dataset\n",
    "df = pd.read_csv('Datasets/training_cleaned.csv',header=None)\n",
    "display(df.head())\n",
    "\n",
    "labels_all = df.iloc[:,0].values\n",
    "sentences_all = df.iloc[:,-1].values\n",
    "print(labels_all.shape,labels_all.dtype)\n",
    "print(sentences_all.shape,sentences_all.dtype)\n",
    "\n",
    "print(sentences_all[1])"
   ],
   "metadata": {
    "id": "Qlg5h-37Y7xV",
    "colab": {
     "base_uri": "https://localhost:8080/",
     "height": 260
    },
    "executionInfo": {
     "status": "ok",
     "timestamp": 1666282584785,
     "user_tz": -330,
     "elapsed": 4898,
     "user": {
      "displayName": "Reshma T",
      "userId": "00141722778450842601"
     }
    },
    "outputId": "5285a126-e62e-4b0b-cc70-3ab03a6461ff"
   },
   "execution_count": null,
   "outputs": [
    {
     "output_type": "display_data",
     "data": {
      "text/plain": [
       "   0           1                             2         3                4  \\\n",
       "0  0  1467810369  Mon Apr 06 22:19:45 PDT 2009  NO_QUERY  _TheSpecialOne_   \n",
       "1  0  1467810672  Mon Apr 06 22:19:49 PDT 2009  NO_QUERY    scotthamilton   \n",
       "2  0  1467810917  Mon Apr 06 22:19:53 PDT 2009  NO_QUERY         mattycus   \n",
       "3  0  1467811184  Mon Apr 06 22:19:57 PDT 2009  NO_QUERY          ElleCTF   \n",
       "4  0  1467811193  Mon Apr 06 22:19:57 PDT 2009  NO_QUERY           Karoli   \n",
       "\n",
       "                                                   5  \n",
       "0  @switchfoot http://twitpic.com/2y1zl - Awww, t...  \n",
       "1  is upset that he can't update his Facebook by ...  \n",
       "2  @Kenichan I dived many times for the ball. Man...  \n",
       "3    my whole body feels itchy and like its on fire   \n",
       "4  @nationwideclass no, it's not behaving at all....  "
      ],
      "text/html": [
       "\n",
       "  <div id=\"df-9029a28d-45be-4aae-b414-2f4f5e90af6a\">\n",
       "    <div class=\"colab-df-container\">\n",
       "      <div>\n",
       "<style scoped>\n",
       "    .dataframe tbody tr th:only-of-type {\n",
       "        vertical-align: middle;\n",
       "    }\n",
       "\n",
       "    .dataframe tbody tr th {\n",
       "        vertical-align: top;\n",
       "    }\n",
       "\n",
       "    .dataframe thead th {\n",
       "        text-align: right;\n",
       "    }\n",
       "</style>\n",
       "<table border=\"1\" class=\"dataframe\">\n",
       "  <thead>\n",
       "    <tr style=\"text-align: right;\">\n",
       "      <th></th>\n",
       "      <th>0</th>\n",
       "      <th>1</th>\n",
       "      <th>2</th>\n",
       "      <th>3</th>\n",
       "      <th>4</th>\n",
       "      <th>5</th>\n",
       "    </tr>\n",
       "  </thead>\n",
       "  <tbody>\n",
       "    <tr>\n",
       "      <th>0</th>\n",
       "      <td>0</td>\n",
       "      <td>1467810369</td>\n",
       "      <td>Mon Apr 06 22:19:45 PDT 2009</td>\n",
       "      <td>NO_QUERY</td>\n",
       "      <td>_TheSpecialOne_</td>\n",
       "      <td>@switchfoot http://twitpic.com/2y1zl - Awww, t...</td>\n",
       "    </tr>\n",
       "    <tr>\n",
       "      <th>1</th>\n",
       "      <td>0</td>\n",
       "      <td>1467810672</td>\n",
       "      <td>Mon Apr 06 22:19:49 PDT 2009</td>\n",
       "      <td>NO_QUERY</td>\n",
       "      <td>scotthamilton</td>\n",
       "      <td>is upset that he can't update his Facebook by ...</td>\n",
       "    </tr>\n",
       "    <tr>\n",
       "      <th>2</th>\n",
       "      <td>0</td>\n",
       "      <td>1467810917</td>\n",
       "      <td>Mon Apr 06 22:19:53 PDT 2009</td>\n",
       "      <td>NO_QUERY</td>\n",
       "      <td>mattycus</td>\n",
       "      <td>@Kenichan I dived many times for the ball. Man...</td>\n",
       "    </tr>\n",
       "    <tr>\n",
       "      <th>3</th>\n",
       "      <td>0</td>\n",
       "      <td>1467811184</td>\n",
       "      <td>Mon Apr 06 22:19:57 PDT 2009</td>\n",
       "      <td>NO_QUERY</td>\n",
       "      <td>ElleCTF</td>\n",
       "      <td>my whole body feels itchy and like its on fire</td>\n",
       "    </tr>\n",
       "    <tr>\n",
       "      <th>4</th>\n",
       "      <td>0</td>\n",
       "      <td>1467811193</td>\n",
       "      <td>Mon Apr 06 22:19:57 PDT 2009</td>\n",
       "      <td>NO_QUERY</td>\n",
       "      <td>Karoli</td>\n",
       "      <td>@nationwideclass no, it's not behaving at all....</td>\n",
       "    </tr>\n",
       "  </tbody>\n",
       "</table>\n",
       "</div>\n",
       "      <button class=\"colab-df-convert\" onclick=\"convertToInteractive('df-9029a28d-45be-4aae-b414-2f4f5e90af6a')\"\n",
       "              title=\"Convert this dataframe to an interactive table.\"\n",
       "              style=\"display:none;\">\n",
       "        \n",
       "  <svg xmlns=\"http://www.w3.org/2000/svg\" height=\"24px\"viewBox=\"0 0 24 24\"\n",
       "       width=\"24px\">\n",
       "    <path d=\"M0 0h24v24H0V0z\" fill=\"none\"/>\n",
       "    <path d=\"M18.56 5.44l.94 2.06.94-2.06 2.06-.94-2.06-.94-.94-2.06-.94 2.06-2.06.94zm-11 1L8.5 8.5l.94-2.06 2.06-.94-2.06-.94L8.5 2.5l-.94 2.06-2.06.94zm10 10l.94 2.06.94-2.06 2.06-.94-2.06-.94-.94-2.06-.94 2.06-2.06.94z\"/><path d=\"M17.41 7.96l-1.37-1.37c-.4-.4-.92-.59-1.43-.59-.52 0-1.04.2-1.43.59L10.3 9.45l-7.72 7.72c-.78.78-.78 2.05 0 2.83L4 21.41c.39.39.9.59 1.41.59.51 0 1.02-.2 1.41-.59l7.78-7.78 2.81-2.81c.8-.78.8-2.07 0-2.86zM5.41 20L4 18.59l7.72-7.72 1.47 1.35L5.41 20z\"/>\n",
       "  </svg>\n",
       "      </button>\n",
       "      \n",
       "  <style>\n",
       "    .colab-df-container {\n",
       "      display:flex;\n",
       "      flex-wrap:wrap;\n",
       "      gap: 12px;\n",
       "    }\n",
       "\n",
       "    .colab-df-convert {\n",
       "      background-color: #E8F0FE;\n",
       "      border: none;\n",
       "      border-radius: 50%;\n",
       "      cursor: pointer;\n",
       "      display: none;\n",
       "      fill: #1967D2;\n",
       "      height: 32px;\n",
       "      padding: 0 0 0 0;\n",
       "      width: 32px;\n",
       "    }\n",
       "\n",
       "    .colab-df-convert:hover {\n",
       "      background-color: #E2EBFA;\n",
       "      box-shadow: 0px 1px 2px rgba(60, 64, 67, 0.3), 0px 1px 3px 1px rgba(60, 64, 67, 0.15);\n",
       "      fill: #174EA6;\n",
       "    }\n",
       "\n",
       "    [theme=dark] .colab-df-convert {\n",
       "      background-color: #3B4455;\n",
       "      fill: #D2E3FC;\n",
       "    }\n",
       "\n",
       "    [theme=dark] .colab-df-convert:hover {\n",
       "      background-color: #434B5C;\n",
       "      box-shadow: 0px 1px 3px 1px rgba(0, 0, 0, 0.15);\n",
       "      filter: drop-shadow(0px 1px 2px rgba(0, 0, 0, 0.3));\n",
       "      fill: #FFFFFF;\n",
       "    }\n",
       "  </style>\n",
       "\n",
       "      <script>\n",
       "        const buttonEl =\n",
       "          document.querySelector('#df-9029a28d-45be-4aae-b414-2f4f5e90af6a button.colab-df-convert');\n",
       "        buttonEl.style.display =\n",
       "          google.colab.kernel.accessAllowed ? 'block' : 'none';\n",
       "\n",
       "        async function convertToInteractive(key) {\n",
       "          const element = document.querySelector('#df-9029a28d-45be-4aae-b414-2f4f5e90af6a');\n",
       "          const dataTable =\n",
       "            await google.colab.kernel.invokeFunction('convertToInteractive',\n",
       "                                                     [key], {});\n",
       "          if (!dataTable) return;\n",
       "\n",
       "          const docLinkHtml = 'Like what you see? Visit the ' +\n",
       "            '<a target=\"_blank\" href=https://colab.research.google.com/notebooks/data_table.ipynb>data table notebook</a>'\n",
       "            + ' to learn more about interactive tables.';\n",
       "          element.innerHTML = '';\n",
       "          dataTable['output_type'] = 'display_data';\n",
       "          await google.colab.output.renderOutput(dataTable, element);\n",
       "          const docLink = document.createElement('div');\n",
       "          docLink.innerHTML = docLinkHtml;\n",
       "          element.appendChild(docLink);\n",
       "        }\n",
       "      </script>\n",
       "    </div>\n",
       "  </div>\n",
       "  "
      ]
     },
     "metadata": {}
    },
    {
     "output_type": "stream",
     "name": "stdout",
     "text": [
      "(1600000,) int64\n",
      "(1600000,) object\n",
      "is upset that he can't update his Facebook by texting it... and might cry as a result  School today also. Blah!\n"
     ]
    }
   ]
  },
  {
   "cell_type": "code",
   "source": [
    "sentences, sentences_ignore, labels, labels_ignore = train_test_split(sentences_all, labels_all, train_size = 0.1)\n",
    "print(sentences.shape)\n",
    "\n",
    "sentences_train, sentences_val, labels_train, labels_val = train_test_split(sentences,labels,test_size=0.1)\n",
    "sentences_train = np.array(sentences_train)\n",
    "labels_train = np.array(labels_train)\n",
    "sentences_val = np.array(sentences_val)\n",
    "labels_val = np.array(labels_val)\n",
    "print(\"Train => \",sentences_train.shape,labels_train.shape)\n",
    "print(\"Val => \",sentences_val.shape,labels_val.shape)"
   ],
   "metadata": {
    "colab": {
     "base_uri": "https://localhost:8080/"
    },
    "id": "IGQ2ki2yRthR",
    "executionInfo": {
     "status": "ok",
     "timestamp": 1666282584787,
     "user_tz": -330,
     "elapsed": 14,
     "user": {
      "displayName": "Reshma T",
      "userId": "00141722778450842601"
     }
    },
    "outputId": "edc5f207-ccd1-4832-c405-5a4883155dff"
   },
   "execution_count": null,
   "outputs": [
    {
     "output_type": "stream",
     "name": "stdout",
     "text": [
      "(160000,)\n",
      "Train =>  (144000,) (144000,)\n",
      "Val =>  (16000,) (16000,)\n"
     ]
    }
   ]
  },
  {
   "cell_type": "code",
   "source": [
    "print(\"Labels => \",np.unique(labels_train),np.unique(labels_val))\n",
    "\n",
    "#Replace 4 with 1 in both datasets\n",
    "labels_train[labels_train == 4] = 1\n",
    "labels_val[labels_val == 4] = 1\n",
    "print(\"Replaced Labels => \",np.unique(labels_train),np.unique(labels_val))"
   ],
   "metadata": {
    "colab": {
     "base_uri": "https://localhost:8080/"
    },
    "id": "JA2GpQ47v0bE",
    "executionInfo": {
     "status": "ok",
     "timestamp": 1666282584787,
     "user_tz": -330,
     "elapsed": 11,
     "user": {
      "displayName": "Reshma T",
      "userId": "00141722778450842601"
     }
    },
    "outputId": "f95b0076-ed9e-4009-b438-cd4bc944e94c"
   },
   "execution_count": null,
   "outputs": [
    {
     "output_type": "stream",
     "name": "stdout",
     "text": [
      "Labels =>  [0 4] [0 4]\n",
      "Replaced Labels =>  [0 1] [0 1]\n"
     ]
    }
   ]
  },
  {
   "cell_type": "code",
   "source": [
    "def plot_graphs(model_hist, string):\n",
    "  plt.plot(model_hist.history[string])\n",
    "  plt.plot(model_hist.history['val_'+string])\n",
    "  plt.xlabel(\"Epochs\")\n",
    "  plt.ylabel(string)\n",
    "  plt.legend([string, 'val_'+string])\n",
    "  plt.show()"
   ],
   "metadata": {
    "id": "Gew8OSJRKCJO"
   },
   "execution_count": null,
   "outputs": []
  },
  {
   "cell_type": "markdown",
   "source": [
    "## Text preprocessing"
   ],
   "metadata": {
    "id": "TSZOz1scJmNa"
   }
  },
  {
   "cell_type": "code",
   "source": [
    "vec_layer_sentence = tf.keras.layers.TextVectorization(output_mode='int',output_sequence_length=16)\n",
    "\n",
    "vec_layer_sentence.adapt(sentences_train)\n",
    "vectorized_sentences_train = vec_layer_sentence(sentences_train)\n",
    "vectorized_sentences_val = vec_layer_sentence(sentences_val)\n",
    "print(vec_layer_sentence.vocabulary_size())\n",
    "print(vectorized_sentences_train)\n",
    "print(vectorized_sentences_val.shape)"
   ],
   "metadata": {
    "colab": {
     "base_uri": "https://localhost:8080/"
    },
    "id": "QdtU6FqUFCLv",
    "executionInfo": {
     "status": "ok",
     "timestamp": 1666282601835,
     "user_tz": -330,
     "elapsed": 17055,
     "user": {
      "displayName": "Reshma T",
      "userId": "00141722778450842601"
     }
    },
    "outputId": "d8312807-1c8e-40ee-9c72-030617c1d785"
   },
   "execution_count": null,
   "outputs": [
    {
     "output_type": "stream",
     "name": "stdout",
     "text": [
      "146210\n",
      "tf.Tensor(\n",
      "[[ 21461      8     36 ...      0      0      0]\n",
      " [100149    197    296 ...      0      0      0]\n",
      " [    56    136      2 ...      0      0      0]\n",
      " ...\n",
      " [ 49704    201     23 ...      0      0      0]\n",
      " [ 42578      2     62 ...     21     45  55785]\n",
      " [    64      5     96 ...    106      0      0]], shape=(144000, 16), dtype=int64)\n",
      "(16000, 16)\n"
     ]
    }
   ]
  },
  {
   "cell_type": "markdown",
   "source": [
    "## Pre-defined Word Embeddings\n",
    "\n",
    "- https://nlp.stanford.edu/projects/glove/\n",
    "- We use the downloaded GloVe embeddings to create an embedding matrix, where the rows contain the word embeddings for the tokens in the Vector layer's vocabulary."
   ],
   "metadata": {
    "id": "BHuAK85iF_vi"
   }
  },
  {
   "cell_type": "code",
   "source": [
    "# Define path to file containing the embeddings\n",
    "GLOVE_FILE = 'Datasets/glove.6B.100d.txt'\n",
    "\n",
    "# Initialize an empty embeddings index dictionary\n",
    "GLOVE_EMBEDDINGS = {}\n",
    "\n",
    "# Read file and fill GLOVE_EMBEDDINGS with its contents\n",
    "with open(GLOVE_FILE) as f:\n",
    "    for line in f:\n",
    "        values = line.split()\n",
    "        word = values[0]\n",
    "        coefs = np.asarray(values[1:], dtype='float32')\n",
    "        GLOVE_EMBEDDINGS[word] = coefs\n",
    "\n",
    "test_word = 'hello'\n",
    "test_vector = GLOVE_EMBEDDINGS[test_word]\n",
    "print(\"Vector representation of \",test_word,\":\\n\\n\",test_vector)\n",
    "print(\"Each word vector has shape = \",test_vector.shape)"
   ],
   "metadata": {
    "colab": {
     "base_uri": "https://localhost:8080/"
    },
    "id": "xwTWcrvvSdAW",
    "executionInfo": {
     "status": "ok",
     "timestamp": 1666282609836,
     "user_tz": -330,
     "elapsed": 8005,
     "user": {
      "displayName": "Reshma T",
      "userId": "00141722778450842601"
     }
    },
    "outputId": "8f553f20-516d-4d5d-9c0b-f91a6538624e"
   },
   "execution_count": null,
   "outputs": [
    {
     "output_type": "stream",
     "name": "stdout",
     "text": [
      "Vector representation of  hello :\n",
      "\n",
      " [ 0.26688    0.39632    0.6169    -0.77451   -0.1039     0.26697\n",
      "  0.2788     0.30992    0.0054685 -0.085256   0.73602   -0.098432\n",
      "  0.5479    -0.030305   0.33479    0.14094   -0.0070003  0.32569\n",
      "  0.22902    0.46557   -0.19531    0.37491   -0.7139    -0.51775\n",
      "  0.77039    1.0881    -0.66011   -0.16234    0.9119     0.21046\n",
      "  0.047494   1.0019     1.1133     0.70094   -0.08696    0.47571\n",
      "  0.1636    -0.44469    0.4469    -0.93817    0.013101   0.085964\n",
      " -0.67456    0.49662   -0.037827  -0.11038   -0.28612    0.074606\n",
      " -0.31527   -0.093774  -0.57069    0.66865    0.45307   -0.34154\n",
      " -0.7166    -0.75273    0.075212   0.57903   -0.1191    -0.11379\n",
      " -0.10026    0.71341   -1.1574    -0.74026    0.40452    0.18023\n",
      "  0.21449    0.37638    0.11239   -0.53639   -0.025092   0.31886\n",
      " -0.25013   -0.63283   -0.011843   1.377      0.86013    0.20476\n",
      " -0.36815   -0.68874    0.53512   -0.46556    0.27389    0.4118\n",
      " -0.854     -0.046288   0.11304   -0.27326    0.15636   -0.20334\n",
      "  0.53586    0.59784    0.60469    0.13735    0.42232   -0.61279\n",
      " -0.38486    0.35842   -0.48464    0.30728  ]\n",
      "Each word vector has shape =  (100,)\n"
     ]
    }
   ]
  },
  {
   "cell_type": "code",
   "source": [
    "# Initialize an empty numpy array with the appropriate size\n",
    "EMBEDDINGS_MATRIX = np.zeros((vec_layer_sentence.vocabulary_size(),100)) #EMBEDDING_DIM = 100\n",
    "\n",
    "# Iterate all the words in the vocabulary and if the vector representation for\n",
    "# each word exists within GloVe's representations, save it in the EMBEDDINGS_MATRIX array\n",
    "i = 0\n",
    "for word in vec_layer_sentence.get_vocabulary():\n",
    "    embedding_vector = GLOVE_EMBEDDINGS.get(word)\n",
    "    if embedding_vector is not None:\n",
    "        EMBEDDINGS_MATRIX[i] = embedding_vector\n",
    "    i += 1"
   ],
   "metadata": {
    "id": "MfhBUrzjHied"
   },
   "execution_count": null,
   "outputs": []
  },
  {
   "cell_type": "markdown",
   "source": [
    "## Model"
   ],
   "metadata": {
    "id": "Ro_XMEIwJq9e"
   }
  },
  {
   "cell_type": "code",
   "source": [
    "sentences_model = tf.keras.Sequential([\n",
    "    tf.keras.layers.Embedding(input_dim=vec_layer_sentence.vocabulary_size(),output_dim=100,input_length=16,\n",
    "                              trainable=False,\n",
    "                              weights=[EMBEDDINGS_MATRIX]), \n",
    "    \n",
    "    tf.keras.layers.Dropout(0.2),\n",
    "    tf.keras.layers.Conv1D(filters=64,kernel_size=5,activation='relu'),\n",
    "    tf.keras.layers.MaxPooling1D(),\n",
    "    #tf.keras.layers.Bidirectional(tf.keras.layers.LSTM(units=128,return_sequences=True)), #activation='tanh'\n",
    "    tf.keras.layers.Bidirectional(tf.keras.layers.LSTM(units=64)), #activation='tanh'\n",
    "\n",
    "    tf.keras.layers.Dense(units=32,activation='relu'),\n",
    "    tf.keras.layers.Dense(units=1,activation='sigmoid')\n",
    "])\n",
    "\n",
    "sentences_model.compile(optimizer='adam',\n",
    "                                   loss='binary_crossentropy',\n",
    "                                   metrics=['accuracy'])\n",
    "\n",
    "sentences_model.summary()"
   ],
   "metadata": {
    "colab": {
     "base_uri": "https://localhost:8080/"
    },
    "id": "olHRzxGwJQsR",
    "executionInfo": {
     "status": "ok",
     "timestamp": 1666282609837,
     "user_tz": -330,
     "elapsed": 24,
     "user": {
      "displayName": "Reshma T",
      "userId": "00141722778450842601"
     }
    },
    "outputId": "8a315220-a1df-45e1-96bf-4216fe6a87bc"
   },
   "execution_count": null,
   "outputs": [
    {
     "output_type": "stream",
     "name": "stdout",
     "text": [
      "Model: \"sequential\"\n",
      "_________________________________________________________________\n",
      " Layer (type)                Output Shape              Param #   \n",
      "=================================================================\n",
      " embedding (Embedding)       (None, 16, 100)           14621000  \n",
      "                                                                 \n",
      " dropout (Dropout)           (None, 16, 100)           0         \n",
      "                                                                 \n",
      " conv1d (Conv1D)             (None, 12, 64)            32064     \n",
      "                                                                 \n",
      " max_pooling1d (MaxPooling1D  (None, 6, 64)            0         \n",
      " )                                                               \n",
      "                                                                 \n",
      " bidirectional (Bidirectiona  (None, 128)              66048     \n",
      " l)                                                              \n",
      "                                                                 \n",
      " dense (Dense)               (None, 32)                4128      \n",
      "                                                                 \n",
      " dense_1 (Dense)             (None, 1)                 33        \n",
      "                                                                 \n",
      "=================================================================\n",
      "Total params: 14,723,273\n",
      "Trainable params: 102,273\n",
      "Non-trainable params: 14,621,000\n",
      "_________________________________________________________________\n"
     ]
    }
   ]
  },
  {
   "cell_type": "code",
   "source": [
    "sentences_model_hist = sentences_model.fit(x=vectorized_sentences_train, y=labels_train,\n",
    "                                           epochs=20,\n",
    "                                           validation_data=(vectorized_sentences_val,labels_val))"
   ],
   "metadata": {
    "colab": {
     "base_uri": "https://localhost:8080/"
    },
    "id": "tjf5IA0xJYDW",
    "outputId": "ec0ddfe0-b2b9-4043-f1ca-c458d471e2c8",
    "executionInfo": {
     "status": "ok",
     "timestamp": 1666283174330,
     "user_tz": -330,
     "elapsed": 564509,
     "user": {
      "displayName": "Reshma T",
      "userId": "00141722778450842601"
     }
    }
   },
   "execution_count": null,
   "outputs": [
    {
     "output_type": "stream",
     "name": "stdout",
     "text": [
      "Epoch 1/20\n",
      "4500/4500 [==============================] - 32s 6ms/step - loss: 0.5636 - accuracy: 0.7032 - val_loss: 0.5116 - val_accuracy: 0.7421\n",
      "Epoch 2/20\n",
      "4500/4500 [==============================] - 31s 7ms/step - loss: 0.5182 - accuracy: 0.7387 - val_loss: 0.4994 - val_accuracy: 0.7524\n",
      "Epoch 3/20\n",
      "4500/4500 [==============================] - 28s 6ms/step - loss: 0.5007 - accuracy: 0.7512 - val_loss: 0.4927 - val_accuracy: 0.7585\n",
      "Epoch 4/20\n",
      "4500/4500 [==============================] - 27s 6ms/step - loss: 0.4868 - accuracy: 0.7595 - val_loss: 0.4969 - val_accuracy: 0.7562\n",
      "Epoch 5/20\n",
      "4500/4500 [==============================] - 28s 6ms/step - loss: 0.4777 - accuracy: 0.7658 - val_loss: 0.4870 - val_accuracy: 0.7588\n",
      "Epoch 6/20\n",
      "4500/4500 [==============================] - 26s 6ms/step - loss: 0.4702 - accuracy: 0.7711 - val_loss: 0.4950 - val_accuracy: 0.7586\n",
      "Epoch 7/20\n",
      "4500/4500 [==============================] - 28s 6ms/step - loss: 0.4628 - accuracy: 0.7756 - val_loss: 0.4913 - val_accuracy: 0.7571\n",
      "Epoch 8/20\n",
      "4500/4500 [==============================] - 27s 6ms/step - loss: 0.4568 - accuracy: 0.7793 - val_loss: 0.4925 - val_accuracy: 0.7598\n",
      "Epoch 9/20\n",
      "4500/4500 [==============================] - 28s 6ms/step - loss: 0.4514 - accuracy: 0.7820 - val_loss: 0.4957 - val_accuracy: 0.7643\n",
      "Epoch 10/20\n",
      "4500/4500 [==============================] - 27s 6ms/step - loss: 0.4465 - accuracy: 0.7852 - val_loss: 0.4932 - val_accuracy: 0.7611\n",
      "Epoch 11/20\n",
      "4500/4500 [==============================] - 27s 6ms/step - loss: 0.4421 - accuracy: 0.7875 - val_loss: 0.4978 - val_accuracy: 0.7617\n",
      "Epoch 12/20\n",
      "4500/4500 [==============================] - 26s 6ms/step - loss: 0.4367 - accuracy: 0.7910 - val_loss: 0.5010 - val_accuracy: 0.7606\n",
      "Epoch 13/20\n",
      "4500/4500 [==============================] - 26s 6ms/step - loss: 0.4339 - accuracy: 0.7922 - val_loss: 0.4991 - val_accuracy: 0.7567\n",
      "Epoch 14/20\n",
      "4500/4500 [==============================] - 28s 6ms/step - loss: 0.4315 - accuracy: 0.7942 - val_loss: 0.5095 - val_accuracy: 0.7563\n",
      "Epoch 15/20\n",
      "4500/4500 [==============================] - 26s 6ms/step - loss: 0.4269 - accuracy: 0.7962 - val_loss: 0.5014 - val_accuracy: 0.7594\n",
      "Epoch 16/20\n",
      "4500/4500 [==============================] - 29s 6ms/step - loss: 0.4262 - accuracy: 0.7967 - val_loss: 0.5065 - val_accuracy: 0.7576\n",
      "Epoch 17/20\n",
      "4500/4500 [==============================] - 27s 6ms/step - loss: 0.4213 - accuracy: 0.7993 - val_loss: 0.5072 - val_accuracy: 0.7566\n",
      "Epoch 18/20\n",
      "4500/4500 [==============================] - 26s 6ms/step - loss: 0.4193 - accuracy: 0.7997 - val_loss: 0.5144 - val_accuracy: 0.7529\n",
      "Epoch 19/20\n",
      "4500/4500 [==============================] - 28s 6ms/step - loss: 0.4190 - accuracy: 0.8002 - val_loss: 0.5127 - val_accuracy: 0.7588\n",
      "Epoch 20/20\n",
      "4500/4500 [==============================] - 27s 6ms/step - loss: 0.4174 - accuracy: 0.8005 - val_loss: 0.5175 - val_accuracy: 0.7513\n"
     ]
    }
   ]
  },
  {
   "cell_type": "code",
   "source": [
    "plot_graphs(sentences_model_hist, \"accuracy\")\n",
    "plot_graphs(sentences_model_hist, \"loss\")"
   ],
   "metadata": {
    "id": "zYDr3JOtNhXM",
    "colab": {
     "base_uri": "https://localhost:8080/",
     "height": 541
    },
    "executionInfo": {
     "status": "ok",
     "timestamp": 1666283174332,
     "user_tz": -330,
     "elapsed": 36,
     "user": {
      "displayName": "Reshma T",
      "userId": "00141722778450842601"
     }
    },
    "outputId": "b638521b-e220-4e9a-8ede-e67712b4db99"
   },
   "execution_count": null,
   "outputs": [
    {
     "output_type": "display_data",
     "data": {
      "text/plain": [
       "<Figure size 432x288 with 1 Axes>"
      ],
      "image/png": "[encoded data removed]"
     },
     "metadata": {
      "needs_background": "light"
     }
    },
    {
     "output_type": "display_data",
     "data": {
      "text/plain": [
       "<Figure size 432x288 with 1 Axes>"
      ],
      "image/png": "[encoded data removed]"
     },
     "metadata": {
      "needs_background": "light"
     }
    }
   ]
  }
 ]
}
