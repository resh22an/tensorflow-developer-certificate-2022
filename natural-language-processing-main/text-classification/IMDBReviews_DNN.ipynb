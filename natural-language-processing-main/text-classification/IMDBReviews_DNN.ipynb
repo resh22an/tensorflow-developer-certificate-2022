{
 "cells": [
  {
   "cell_type": "code",
   "execution_count": 1,
   "metadata": {
    "collapsed": true
   },
   "outputs": [],
   "source": [
    "import numpy as np\n",
    "import tensorflow as tf\n",
    "import tensorflow_datasets as tfds\n",
    "import io\n",
    "import matplotlib.pyplot as plt"
   ]
  },
  {
   "cell_type": "markdown",
   "metadata": {},
   "source": [
    "#### Tensorflow datasets\n",
    "\n",
    "- ``tfds.load`` method downloads the dataset into your working directory\n",
    "- ``with_info = True`` if you want to see the description of the dataset\n",
    "- ``as_supervised`` is set to load the data as (input, label) pairs"
   ]
  },
  {
   "cell_type": "markdown",
   "metadata": {},
   "source": [
    "# IMDB reviews plain text dataset"
   ]
  },
  {
   "cell_type": "markdown",
   "metadata": {},
   "source": [
    "## Load dataset"
   ]
  },
  {
   "cell_type": "code",
   "execution_count": 2,
   "metadata": {},
   "outputs": [
    {
     "name": "stderr",
     "output_type": "stream",
     "text": [
      "2022-11-14 10:10:34.673213: I tensorflow/core/platform/cpu_feature_guard.cc:193] This TensorFlow binary is optimized with oneAPI Deep Neural Network Library (oneDNN) to use the following CPU instructions in performance-critical operations:  AVX2 FMA\n",
      "To enable them in other operations, rebuild TensorFlow with the appropriate compiler flags.\n"
     ]
    },
    {
     "name": "stdout",
     "output_type": "stream",
     "text": [
      "tfds.core.DatasetInfo(\n",
      "    name='imdb_reviews',\n",
      "    full_name='imdb_reviews/plain_text/1.0.0',\n",
      "    description=\"\"\"\n",
      "    Large Movie Review Dataset.\n",
      "    This is a dataset for binary sentiment classification containing substantially more data than previous benchmark datasets. We provide a set of 25,000 highly polar movie reviews for training, and 25,000 for testing. There is additional unlabeled data for use as well.\n",
      "    \"\"\",\n",
      "    config_description=\"\"\"\n",
      "    Plain text\n",
      "    \"\"\",\n",
      "    homepage='http://ai.stanford.edu/~amaas/data/sentiment/',\n",
      "    data_path='~/tensorflow_datasets/imdb_reviews/plain_text/1.0.0',\n",
      "    file_format=tfrecord,\n",
      "    download_size=80.23 MiB,\n",
      "    dataset_size=129.83 MiB,\n",
      "    features=FeaturesDict({\n",
      "        'label': ClassLabel(shape=(), dtype=tf.int64, num_classes=2),\n",
      "        'text': Text(shape=(), dtype=tf.string),\n",
      "    }),\n",
      "    supervised_keys=('text', 'label'),\n",
      "    disable_shuffling=False,\n",
      "    splits={\n",
      "        'test': <SplitInfo num_examples=25000, num_shards=1>,\n",
      "        'train': <SplitInfo num_examples=25000, num_shards=1>,\n",
      "        'unsupervised': <SplitInfo num_examples=50000, num_shards=1>,\n",
      "    },\n",
      "    citation=\"\"\"@InProceedings{maas-EtAl:2011:ACL-HLT2011,\n",
      "      author    = {Maas, Andrew L.  and  Daly, Raymond E.  and  Pham, Peter T.  and  Huang, Dan  and  Ng, Andrew Y.  and  Potts, Christopher},\n",
      "      title     = {Learning Word Vectors for Sentiment Analysis},\n",
      "      booktitle = {Proceedings of the 49th Annual Meeting of the Association for Computational Linguistics: Human Language Technologies},\n",
      "      month     = {June},\n",
      "      year      = {2011},\n",
      "      address   = {Portland, Oregon, USA},\n",
      "      publisher = {Association for Computational Linguistics},\n",
      "      pages     = {142--150},\n",
      "      url       = {http://www.aclweb.org/anthology/P11-1015}\n",
      "    }\"\"\",\n",
      ")\n",
      "########################\n",
      "(<tf.Tensor: shape=(), dtype=string, numpy=b\"This was an absolutely terrible movie. Don't be lured in by Christopher Walken or Michael Ironside. Both are great actors, but this must simply be their worst role in history. Even their great acting could not redeem this movie's ridiculous storyline. This movie is an early nineties US propaganda piece. The most pathetic scenes were those when the Columbian rebels were making their cases for revolutions. Maria Conchita Alonso appeared phony, and her pseudo-love affair with Walken was nothing but a pathetic emotional plug in a movie that was devoid of any real meaning. I am disappointed that there are movies like this, ruining actor's like Christopher Walken's good name. I could barely sit through it.\">, <tf.Tensor: shape=(), dtype=int64, numpy=0>)\n",
      "(<tf.Tensor: shape=(), dtype=string, numpy=b'I have been known to fall asleep during films, but this is usually due to a combination of things including, really tired, being warm and comfortable on the sette and having just eaten a lot. However on this occasion I fell asleep because the film was rubbish. The plot development was constant. Constantly slow and boring. Things seemed to happen, but with no explanation of what was causing them or why. I admit, I may have missed part of the film, but i watched the majority of it and everything just seemed to happen of its own accord without any real concern for anything else. I cant recommend this film at all.'>, <tf.Tensor: shape=(), dtype=int64, numpy=0>)\n"
     ]
    },
    {
     "name": "stderr",
     "output_type": "stream",
     "text": [
      "2022-11-14 10:10:35.009626: W tensorflow/core/kernels/data/cache_dataset_ops.cc:856] The calling iterator did not fully read the dataset being cached. In order to avoid unexpected truncation of the dataset, the partially cached contents of the dataset  will be discarded. This can happen if you have an input pipeline similar to `dataset.cache().take(k).repeat()`. You should use `dataset.take(k).cache().repeat()` instead.\n"
     ]
    }
   ],
   "source": [
    "imdb_plain, info_plain = tfds.load(\"imdb_reviews\", with_info=True, as_supervised=True)\n",
    "\n",
    "print(info_plain)\n",
    "print(\"########################\")\n",
    "for x in imdb_plain[\"train\"].take(2):\n",
    "    print(x)"
   ]
  },
  {
   "cell_type": "code",
   "execution_count": 3,
   "metadata": {},
   "outputs": [
    {
     "name": "stdout",
     "output_type": "stream",
     "text": [
      "{'train': <SplitInfo num_examples=25000, num_shards=1>, 'test': <SplitInfo num_examples=25000, num_shards=1>, 'unsupervised': <SplitInfo num_examples=50000, num_shards=1>}\n",
      "FeaturesDict({\n",
      "    'label': ClassLabel(shape=(), dtype=tf.int64, num_classes=2),\n",
      "    'text': Text(shape=(), dtype=tf.string),\n",
      "})\n"
     ]
    }
   ],
   "source": [
    "print(info_plain.splits)\n",
    "print(info_plain.features)"
   ]
  },
  {
   "cell_type": "code",
   "execution_count": 4,
   "metadata": {},
   "outputs": [
    {
     "name": "stdout",
     "output_type": "stream",
     "text": [
      "Train =>  (25000,) (25000,)\n",
      "Test =>  (25000,) (25000,)\n"
     ]
    }
   ],
   "source": [
    "text_plain_train = []\n",
    "labels_plain_train = []\n",
    "for sent,lab in imdb_plain[\"train\"]: #sent,lab are tensors\n",
    "    text_plain_train.append(sent.numpy().decode('utf8'))\n",
    "    labels_plain_train.append(lab.numpy())\n",
    "text_plain_train = np.array(text_plain_train)\n",
    "labels_plain_train = np.array(labels_plain_train)\n",
    "\n",
    "text_plain_test = []\n",
    "labels_plain_test = []\n",
    "for sent,lab in imdb_plain[\"test\"]: #sent,lab are tensors\n",
    "    text_plain_test.append(sent.numpy().decode('utf8'))\n",
    "    labels_plain_test.append(lab.numpy())\n",
    "text_plain_test = np.array(text_plain_test)\n",
    "labels_plain_test = np.array(labels_plain_test)\n",
    "\n",
    "print(\"Train => \",text_plain_train.shape,labels_plain_train.shape)\n",
    "print(\"Test => \",text_plain_test.shape,labels_plain_test.shape)"
   ]
  },
  {
   "cell_type": "markdown",
   "metadata": {},
   "source": [
    "## Text preprocessing"
   ]
  },
  {
   "cell_type": "code",
   "execution_count": 5,
   "metadata": {},
   "outputs": [
    {
     "name": "stdout",
     "output_type": "stream",
     "text": [
      "Vocab size =  10000\n",
      "tf.Tensor(\n",
      "[  11   14   34  412  384   18   90   28    1    8   33 1322 3560   42\n",
      "  487    1  191   24   85  152   19   11  217  316   28   65  240  214\n",
      "    8  489   54   65   85  112   96   22 5596   11   93  642  743   11\n",
      "   18    7   34  394 9522  170 2464  408    2   88 1216  137   66  144\n",
      "   51    2    1 7558   66  245   65 2870   16    1 2860    1    1 1426\n",
      " 5050    3   40    1 1579   17 3560   14  158   19    4 1216  891 8040\n",
      "    8    4   18   12   14 4059    5   99  146 1241   10  237  704   12\n",
      "   48   24   93   39   11 7339  152   39 1322    1   50  398   10   96\n",
      " 1155  851  141    9    0    0    0    0], shape=(120,), dtype=int64)\n",
      "tf.Tensor(\n",
      "[   4    1  723  784    5    4    1 2291    1 8569    2 8493   12 6125\n",
      "    1   14  491    6 2733    8  107  491    6  360    4 1622    1 9379\n",
      "   17    4 5002    5 8803   15   34    1   36   25 2693 1076    5   20\n",
      "  245    9   14   34    1  679    6 6547   17  111  276    3  554 2925\n",
      "    1    1  186 9468  106    5    1  917 2693   95    8 1251    5    2\n",
      "  112 3634    1    7  312 1293    3    1   13    2  754 5613    7  140\n",
      "   12   14 4090  173    8    1   91  290  148  301    8 4992    9 3202\n",
      "    2 3361 1604   16 1906    3    1 2835    4  930   12 7027   99 4138\n",
      "    5 8706  338    1  186    7  972   52], shape=(120,), dtype=int64)\n"
     ]
    }
   ],
   "source": [
    "vec_layer_text_plain = tf.keras.layers.TextVectorization(max_tokens = 10000,\n",
    "                                                       output_mode='int',\n",
    "                                                       output_sequence_length=120)\n",
    "vec_layer_text_plain.adapt(text_plain_train)\n",
    "vectorized_text_plain_train = vec_layer_text_plain(text_plain_train)\n",
    "vectorized_text_plain_test = vec_layer_text_plain(text_plain_test)\n",
    "print(\"Vocab size = \",vec_layer_text_plain.vocabulary_size())\n",
    "print(vectorized_text_plain_train[0])\n",
    "print(vectorized_text_plain_test[1])"
   ]
  },
  {
   "cell_type": "code",
   "execution_count": 6,
   "metadata": {},
   "outputs": [
    {
     "name": "stdout",
     "output_type": "stream",
     "text": [
      "Actual sentence =>  This movie is horrible. THe acting is a waste basket. No crying, no action, hopeless songs. Though the scenery is great. I have always wanted to go to Greece.<br /><br />Anyway, as for Saif, you'd expect a great performance, but even he let down the people.<br /><br />Akshay Kumar, recognized as the pimp of Bollywood and the voice of Singhs. He was sensational in this movie. For only this performance, Filmfare should introduce another award. The toiletries award for the worst performance. By the way the trophy should be a toilet seat.<br /><br />Kareena Kapoor. She first of all is not comparable to her sister Karisma. In acting, in looks, or in body. She now wants to prove to herself that she surpasses her. She comes into this movie wearing bikini's and tank tops and short shorts. I really wonder why Saif Ali Khan is letting his wife-to-be dress like that. But, she must've impressed some people dressing like that. And if you ask how, then consider every man is having an erection watching this movie. They are dreaming of having Kareena Kapoor in bed naked with a condom. Including me. Personally I think that she dressed like a whore, but I really liked it.<br /><br />I am forced to give it a 1/10, but I'd really give this movie a 0/10. An unachieved film.\n",
      "Decoded =>  this movie is horrible the acting is a waste basket no crying no action hopeless songs though the scenery is great i have always wanted to go to [UNK] br anyway as for [UNK] youd expect a great performance but even he let down the peoplebr br akshay kumar recognized as the [UNK] of bollywood and the voice of [UNK] he was sensational in this movie for only this performance [UNK] should introduce another award the [UNK] award for the worst performance by the way the [UNK] should be a toilet [UNK] br kareena kapoor she first of all is not comparable to her sister [UNK] in acting in looks or in body she now wants to prove to herself \n"
     ]
    }
   ],
   "source": [
    "vocab = vec_layer_text_plain.get_vocabulary()\n",
    "word = ''\n",
    "for el in vectorized_text_plain_train[222]:\n",
    "    pos = el.numpy()\n",
    "    word += vocab[pos] + ' '\n",
    "word.strip()   #remove leading and trailing whitespaces\n",
    "print(\"Actual sentence => \",text_plain_train[222])\n",
    "print(\"Decoded => \",word)"
   ]
  },
  {
   "cell_type": "markdown",
   "metadata": {},
   "source": [
    "## Model (Deep Neural Network) : Build, compile and train\n",
    "\n",
    "- Word Embedding = Vector (say 16-dimensional) that represents a word & its associated sentiment\n",
    "- tf.keras.layers.GlobalAveragePooling1D() : Average across the vector to flatten it out"
   ]
  },
  {
   "cell_type": "code",
   "execution_count": 7,
   "metadata": {},
   "outputs": [
    {
     "name": "stdout",
     "output_type": "stream",
     "text": [
      "Model: \"sequential\"\n",
      "_________________________________________________________________\n",
      " Layer (type)                Output Shape              Param #   \n",
      "=================================================================\n",
      " embedding (Embedding)       (None, 120, 16)           160000    \n",
      "                                                                 \n",
      " flatten (Flatten)           (None, 1920)              0         \n",
      "                                                                 \n",
      " dense (Dense)               (None, 6)                 11526     \n",
      "                                                                 \n",
      " dense_1 (Dense)             (None, 1)                 7         \n",
      "                                                                 \n",
      "=================================================================\n",
      "Total params: 171,533\n",
      "Trainable params: 171,533\n",
      "Non-trainable params: 0\n",
      "_________________________________________________________________\n"
     ]
    }
   ],
   "source": [
    "imdb_plain_flatten_model = tf.keras.Sequential([\n",
    "    tf.keras.layers.Embedding(input_dim=10000,output_dim=16,input_length=120),\n",
    "\n",
    "    tf.keras.layers.Flatten(), #tf.keras.layers.GlobalAveragePooling1D(),\n",
    "    tf.keras.layers.Dense(units=6,activation='relu'),\n",
    "    tf.keras.layers.Dense(units=1,activation='sigmoid')\n",
    "])\n",
    "\n",
    "imdb_plain_flatten_model.compile(optimizer='adam',\n",
    "                   loss='binary_crossentropy',\n",
    "                   metrics=['accuracy'])\n",
    "\n",
    "imdb_plain_flatten_model.summary()"
   ]
  },
  {
   "cell_type": "code",
   "execution_count": 8,
   "metadata": {},
   "outputs": [
    {
     "name": "stdout",
     "output_type": "stream",
     "text": [
      "Epoch 1/20\n",
      "782/782 [==============================] - 4s 4ms/step - loss: 0.5046 - accuracy: 0.7335 - val_loss: 0.3862 - val_accuracy: 0.8257\n",
      "Epoch 2/20\n",
      "782/782 [==============================] - 3s 4ms/step - loss: 0.2394 - accuracy: 0.9067 - val_loss: 0.4100 - val_accuracy: 0.8202\n",
      "Epoch 3/20\n",
      "782/782 [==============================] - 3s 4ms/step - loss: 0.0908 - accuracy: 0.9759 - val_loss: 0.5159 - val_accuracy: 0.8059\n",
      "Epoch 4/20\n",
      "782/782 [==============================] - 3s 4ms/step - loss: 0.0228 - accuracy: 0.9972 - val_loss: 0.6023 - val_accuracy: 0.8064\n",
      "Epoch 5/20\n",
      "782/782 [==============================] - 3s 3ms/step - loss: 0.0073 - accuracy: 0.9994 - val_loss: 0.6805 - val_accuracy: 0.8038\n",
      "Epoch 6/20\n",
      "782/782 [==============================] - 3s 4ms/step - loss: 0.0020 - accuracy: 1.0000 - val_loss: 0.7403 - val_accuracy: 0.8064\n",
      "Epoch 7/20\n",
      "782/782 [==============================] - 3s 3ms/step - loss: 8.8307e-04 - accuracy: 1.0000 - val_loss: 0.7943 - val_accuracy: 0.8074\n",
      "Epoch 8/20\n",
      "782/782 [==============================] - 3s 4ms/step - loss: 4.7424e-04 - accuracy: 1.0000 - val_loss: 0.8418 - val_accuracy: 0.8078\n",
      "Epoch 9/20\n",
      "782/782 [==============================] - 3s 3ms/step - loss: 2.7287e-04 - accuracy: 1.0000 - val_loss: 0.8877 - val_accuracy: 0.8081\n",
      "Epoch 10/20\n",
      "782/782 [==============================] - 3s 4ms/step - loss: 1.6281e-04 - accuracy: 1.0000 - val_loss: 0.9317 - val_accuracy: 0.8071\n",
      "Epoch 11/20\n",
      "782/782 [==============================] - 3s 4ms/step - loss: 1.0017e-04 - accuracy: 1.0000 - val_loss: 0.9732 - val_accuracy: 0.8080\n",
      "Epoch 12/20\n",
      "782/782 [==============================] - 3s 3ms/step - loss: 6.1964e-05 - accuracy: 1.0000 - val_loss: 1.0141 - val_accuracy: 0.8080\n",
      "Epoch 13/20\n",
      "782/782 [==============================] - 3s 3ms/step - loss: 3.8228e-05 - accuracy: 1.0000 - val_loss: 1.0572 - val_accuracy: 0.8072\n",
      "Epoch 14/20\n",
      "782/782 [==============================] - 3s 3ms/step - loss: 2.4078e-05 - accuracy: 1.0000 - val_loss: 1.0963 - val_accuracy: 0.8078\n",
      "Epoch 15/20\n",
      "782/782 [==============================] - 3s 3ms/step - loss: 1.5206e-05 - accuracy: 1.0000 - val_loss: 1.1392 - val_accuracy: 0.8069\n",
      "Epoch 16/20\n",
      "782/782 [==============================] - 3s 3ms/step - loss: 9.7023e-06 - accuracy: 1.0000 - val_loss: 1.1802 - val_accuracy: 0.8068\n",
      "Epoch 17/20\n",
      "782/782 [==============================] - 3s 4ms/step - loss: 6.1942e-06 - accuracy: 1.0000 - val_loss: 1.2191 - val_accuracy: 0.8071\n",
      "Epoch 18/20\n",
      "782/782 [==============================] - 3s 4ms/step - loss: 3.9304e-06 - accuracy: 1.0000 - val_loss: 1.2591 - val_accuracy: 0.8064\n",
      "Epoch 19/20\n",
      "782/782 [==============================] - 3s 4ms/step - loss: 2.5409e-06 - accuracy: 1.0000 - val_loss: 1.2983 - val_accuracy: 0.8064\n",
      "Epoch 20/20\n",
      "782/782 [==============================] - 3s 3ms/step - loss: 1.6268e-06 - accuracy: 1.0000 - val_loss: 1.3360 - val_accuracy: 0.8071\n"
     ]
    },
    {
     "data": {
      "text/plain": "<keras.callbacks.History at 0x12b03b2e0>"
     },
     "execution_count": 8,
     "metadata": {},
     "output_type": "execute_result"
    }
   ],
   "source": [
    "imdb_plain_flatten_model.fit(x=vectorized_text_plain_train, y=labels_plain_train,\n",
    "               epochs=20,\n",
    "               validation_data=(vectorized_text_plain_test,labels_plain_test))"
   ]
  },
  {
   "cell_type": "markdown",
   "metadata": {},
   "source": [
    "## Visualize Word Embeddings\n",
    "\n",
    "- [Embedding projector](https://projector.tensorflow.org/) : Visualize the trained weights in the Embedding layer to see words that are clustered together"
   ]
  },
  {
   "cell_type": "code",
   "execution_count": 9,
   "metadata": {},
   "outputs": [],
   "source": [
    "embedding_layer_plain = imdb_plain_flatten_model.layers[0]\n",
    "embeddings_plain = embedding_layer_plain.get_weights()[0] #Weights as single list of NumPy arrays of (input_dim rows,output_dim cols)\n",
    "vocabulary_plain = vec_layer_text_plain.get_vocabulary()"
   ]
  },
  {
   "cell_type": "code",
   "execution_count": 10,
   "metadata": {},
   "outputs": [],
   "source": [
    "out_v = io.open('Models/C3W2_IMDBReviews/imdb_plain_vectors.tsv', 'w', encoding='utf-8')\n",
    "out_m = io.open('Models/C3W2_IMDBReviews/imdb_plain_metadata.tsv', 'w', encoding='utf-8')\n",
    "\n",
    "for i in range(2,len(vocabulary_plain)):\n",
    "  if i <= 1 :\n",
    "    continue  # skip 0, it's padding. skip 1, its OOV\n",
    "  vec = embeddings_plain[i]\n",
    "  word = vocabulary_plain[i]\n",
    "  out_v.write('\\t'.join([str(x) for x in vec]) + \"\\n\")\n",
    "  out_m.write(word + \"\\n\")\n",
    "\n",
    "out_v.close()\n",
    "out_m.close()"
   ]
  },
  {
   "cell_type": "markdown",
   "metadata": {},
   "source": [
    "# IMDB reviews tokenized dataset\n",
    "\n",
    "- This pre-tokenized dataset uses subword text encoding. This is an alternative to word-based tokenization\n",
    "- For subwords8k, the dataset is already tokenized so the data type will be integers. Notice that the text features also include an encoder field and has a vocab_size of around 8k, hence the name"
   ]
  },
  {
   "cell_type": "markdown",
   "metadata": {},
   "source": [
    "## Load dataset"
   ]
  },
  {
   "cell_type": "code",
   "execution_count": 11,
   "metadata": {},
   "outputs": [
    {
     "name": "stderr",
     "output_type": "stream",
     "text": [
      "WARNING:absl:TFDS datasets with text encoding are deprecated and will be removed in a future version. Instead, you should use the plain text version and tokenize the text using `tensorflow_text` (See: https://www.tensorflow.org/tutorials/tensorflow_text/intro#tfdata_example)\n",
      "2022-11-14 10:11:55.465513: W tensorflow/core/kernels/data/cache_dataset_ops.cc:856] The calling iterator did not fully read the dataset being cached. In order to avoid unexpected truncation of the dataset, the partially cached contents of the dataset  will be discarded. This can happen if you have an input pipeline similar to `dataset.cache().take(k).repeat()`. You should use `dataset.take(k).cache().repeat()` instead.\n"
     ]
    },
    {
     "name": "stdout",
     "output_type": "stream",
     "text": [
      "tfds.core.DatasetInfo(\n",
      "    name='imdb_reviews',\n",
      "    full_name='imdb_reviews/subwords8k/1.0.0',\n",
      "    description=\"\"\"\n",
      "    Large Movie Review Dataset.\n",
      "    This is a dataset for binary sentiment classification containing substantially more data than previous benchmark datasets. We provide a set of 25,000 highly polar movie reviews for training, and 25,000 for testing. There is additional unlabeled data for use as well.\n",
      "    \"\"\",\n",
      "    config_description=\"\"\"\n",
      "    Uses `tfds.deprecated.text.SubwordTextEncoder` with 8k vocab size\n",
      "    \"\"\",\n",
      "    homepage='http://ai.stanford.edu/~amaas/data/sentiment/',\n",
      "    data_path='~/tensorflow_datasets/imdb_reviews/subwords8k/1.0.0',\n",
      "    file_format=tfrecord,\n",
      "    download_size=80.23 MiB,\n",
      "    dataset_size=54.72 MiB,\n",
      "    features=FeaturesDict({\n",
      "        'label': ClassLabel(shape=(), dtype=tf.int64, num_classes=2),\n",
      "        'text': Text(shape=(None,), dtype=tf.int64, encoder=<SubwordTextEncoder vocab_size=8185>),\n",
      "    }),\n",
      "    supervised_keys=('text', 'label'),\n",
      "    disable_shuffling=False,\n",
      "    splits={\n",
      "        'test': <SplitInfo num_examples=25000, num_shards=1>,\n",
      "        'train': <SplitInfo num_examples=25000, num_shards=1>,\n",
      "        'unsupervised': <SplitInfo num_examples=50000, num_shards=1>,\n",
      "    },\n",
      "    citation=\"\"\"@InProceedings{maas-EtAl:2011:ACL-HLT2011,\n",
      "      author    = {Maas, Andrew L.  and  Daly, Raymond E.  and  Pham, Peter T.  and  Huang, Dan  and  Ng, Andrew Y.  and  Potts, Christopher},\n",
      "      title     = {Learning Word Vectors for Sentiment Analysis},\n",
      "      booktitle = {Proceedings of the 49th Annual Meeting of the Association for Computational Linguistics: Human Language Technologies},\n",
      "      month     = {June},\n",
      "      year      = {2011},\n",
      "      address   = {Portland, Oregon, USA},\n",
      "      publisher = {Association for Computational Linguistics},\n",
      "      pages     = {142--150},\n",
      "      url       = {http://www.aclweb.org/anthology/P11-1015}\n",
      "    }\"\"\",\n",
      ")\n",
      "############ Encoded ############\n",
      "(<tf.Tensor: shape=(163,), dtype=int64, numpy=\n",
      "array([  62,   18,   41,  604,  927,   65,    3,  644, 7968,   21,   35,\n",
      "       5096,   36,   11,   43, 2948, 5240,  102,   50,  681, 7862, 1244,\n",
      "          3, 3266,   29,  122,  640,    2,   26,   14,  279,  438,   35,\n",
      "         79,  349,  384,   11, 1991,    3,  492,   79,  122,  188,  117,\n",
      "         33, 4047, 4531,   14,   65, 7968,    8, 1819, 3947,    3,   62,\n",
      "         27,    9,   41,  577, 5044, 2629, 2552, 7193, 7961, 3642,    3,\n",
      "         19,  107, 3903,  225,   85,  198,   72,    1, 1512,  738, 2347,\n",
      "        102, 6245,    8,   85,  308,   79, 6936, 7961,   23, 4981, 8044,\n",
      "          3, 6429, 7961, 1141, 1335, 1848, 4848,   55, 3601, 4217, 8050,\n",
      "          2,    5,   59, 3831, 1484, 8040, 7974,  174, 5773,   22, 5240,\n",
      "        102,   18,  247,   26,    4, 3903, 1612, 3902,  291,   11,    4,\n",
      "         27,   13,   18, 4092, 4008, 7961,    6,  119,  213, 2774,    3,\n",
      "         12,  258, 2306,   13,   91,   29,  171,   52,  229,    2, 1245,\n",
      "       5790,  995, 7968,    8,   52, 2948, 5240, 8039, 7968,    8,   74,\n",
      "       1249,    3,   12,  117, 2438, 1369,  192,   39, 7975])>, <tf.Tensor: shape=(), dtype=int64, numpy=0>)\n",
      "(<tf.Tensor: shape=(142,), dtype=int64, numpy=\n",
      "array([  12,   31,   93,  867,    7, 1256, 6585, 7961,  421,  365,    2,\n",
      "         26,   14,    9,  988, 1089,    7,    4, 6728,    6,  276, 5760,\n",
      "       2587,    2,   81, 6118, 8029,    2,  139, 1892, 7961,    5, 5402,\n",
      "        246,   25,    1, 1771,  350,    5,  369,   56, 5397,  102,    4,\n",
      "       2547,    3, 4001,   25,   14, 7822,  209,   12, 3531, 6585, 7961,\n",
      "         99,    1,   32,   18, 4762,    3,   19,  184, 3223,   18, 5855,\n",
      "       1045,    3, 4232, 3337,   64, 1347,    5, 1190,    3, 4459,    8,\n",
      "        614,    7, 3129,    2,   26,   22,   84, 7020,    6,   71,   18,\n",
      "       4924, 1160,  161,   50, 2265,    3,   12, 3983,    2,   12,  264,\n",
      "         31, 2545,  261,    6,    1,   66,    2,   26,  131,  393,    1,\n",
      "       5846,    6,   15,    5,  473,   56,  614,    7, 1470,    6,  116,\n",
      "        285, 4755, 2088, 7961,  273,  119,  213, 3414, 7961,   23,  332,\n",
      "       1019,    3,   12, 7667,  505,   14,   32,   44,  208, 7975])>, <tf.Tensor: shape=(), dtype=int64, numpy=0>)\n",
      "############ Decoded ############\n",
      "This was an absolutely terrible movie. Don't be lured in by Christopher Walken or Michael Ironside. Both are great actors, but this must simply be their worst role in history. Even their great acting could not redeem this movie's ridiculous storyline. This movie is an early nineties US propaganda piece. The most pathetic scenes were those when the Columbian rebels were making their cases for revolutions. Maria Conchita Alonso appeared phony, and her pseudo-love affair with Walken was nothing but a pathetic emotional plug in a movie that was devoid of any real meaning. I am disappointed that there are movies like this, ruining actor's like Christopher Walken's good name. I could barely sit through it.\n",
      "========\n",
      "I have been known to fall asleep during films, but this is usually due to a combination of things including, really tired, being warm and comfortable on the sette and having just eaten a lot. However on this occasion I fell asleep because the film was rubbish. The plot development was constant. Constantly slow and boring. Things seemed to happen, but with no explanation of what was causing them or why. I admit, I may have missed part of the film, but i watched the majority of it and everything just seemed to happen of its own accord without any real concern for anything else. I cant recommend this film at all.\n",
      "========\n",
      "###################################\n",
      "Vocab Size of Subword Text Encoding =  8185\n"
     ]
    },
    {
     "name": "stderr",
     "output_type": "stream",
     "text": [
      "2022-11-14 10:11:55.591423: W tensorflow/core/kernels/data/cache_dataset_ops.cc:856] The calling iterator did not fully read the dataset being cached. In order to avoid unexpected truncation of the dataset, the partially cached contents of the dataset  will be discarded. This can happen if you have an input pipeline similar to `dataset.cache().take(k).repeat()`. You should use `dataset.take(k).cache().repeat()` instead.\n"
     ]
    }
   ],
   "source": [
    "imdb_subwords, info_subwords = tfds.load(\"imdb_reviews/subwords8k\", with_info=True, as_supervised=True)\n",
    "\n",
    "print(info_subwords)\n",
    "print(\"############ Encoded ############\")\n",
    "for x in imdb_subwords[\"train\"].take(2):\n",
    "    print(x)\n",
    "print(\"############ Decoded ############\")\n",
    "encoder_im = info_subwords.features[\"text\"].encoder\n",
    "for x in imdb_subwords[\"train\"].take(2):\n",
    "    print(encoder_im.decode(x[0]))\n",
    "    print(\"========\")\n",
    "print(\"###################################\")\n",
    "print(\"Vocab Size of Subword Text Encoding = \",encoder_im.vocab_size)"
   ]
  },
  {
   "cell_type": "code",
   "execution_count": 12,
   "metadata": {},
   "outputs": [
    {
     "name": "stdout",
     "output_type": "stream",
     "text": [
      "{'train': <SplitInfo num_examples=25000, num_shards=1>, 'test': <SplitInfo num_examples=25000, num_shards=1>, 'unsupervised': <SplitInfo num_examples=50000, num_shards=1>}\n",
      "FeaturesDict({\n",
      "    'label': ClassLabel(shape=(), dtype=tf.int64, num_classes=2),\n",
      "    'text': Text(shape=(None,), dtype=tf.int64, encoder=<SubwordTextEncoder vocab_size=8185>),\n",
      "})\n"
     ]
    }
   ],
   "source": [
    "print(info_subwords.splits)\n",
    "print(info_subwords.features)"
   ]
  },
  {
   "cell_type": "code",
   "execution_count": 13,
   "metadata": {},
   "outputs": [
    {
     "name": "stdout",
     "output_type": "stream",
     "text": [
      "Actual sentence =>  This was an absolutely terrible movie. Don't be lured in by Christopher Walken or Michael Ironside. Both are great actors, but this must simply be their worst role in history. Even their great acting could not redeem this movie's ridiculous storyline. This movie is an early nineties US propaganda piece. The most pathetic scenes were those when the Columbian rebels were making their cases for revolutions. Maria Conchita Alonso appeared phony, and her pseudo-love affair with Walken was nothing but a pathetic emotional plug in a movie that was devoid of any real meaning. I am disappointed that there are movies like this, ruining actor's like Christopher Walken's good name. I could barely sit through it.\n",
      "Decoded =>  this was an absolutely terrible movie dont be [UNK] in by christopher walken or michael [UNK] both are great actors but this must simply be their worst role in history even their great acting could not redeem this movies ridiculous storyline this movie is an early nineties us propaganda piece the most pathetic scenes were those when the [UNK] rebels were making their cases for [UNK] maria [UNK] [UNK] appeared phony and her [UNK] affair with walken was nothing but a pathetic emotional plug in a movie that was devoid of any real meaning i am disappointed that there are movies like this ruining actors like christopher [UNK] good name i could barely sit through it     \n",
      "########################\n",
      "This was an absolutely terrible movie. Don't be lured in by Christopher Walken or Michael Ironside. Both are great actors, but this must simply be their worst role in history. Even their great acting could not redeem this movie's ridiculous storyline. This movie is an early nineties US propaganda piece. The most pathetic scenes were those when the Columbian rebels were making their cases for revolutions. Maria Conchita Alonso appeared phony, and her pseudo-love affair with Walken was nothing but a pathetic emotional plug in a movie that was devoid of any real meaning. I am disappointed that there are movies like this, ruining actor's like Christopher Walken's good name. I could barely sit through it.\n"
     ]
    },
    {
     "name": "stderr",
     "output_type": "stream",
     "text": [
      "2022-11-14 10:11:55.732065: W tensorflow/core/kernels/data/cache_dataset_ops.cc:856] The calling iterator did not fully read the dataset being cached. In order to avoid unexpected truncation of the dataset, the partially cached contents of the dataset  will be discarded. This can happen if you have an input pipeline similar to `dataset.cache().take(k).repeat()`. You should use `dataset.take(k).cache().repeat()` instead.\n"
     ]
    }
   ],
   "source": [
    "vocab = vec_layer_text_plain.get_vocabulary()\n",
    "word = ''\n",
    "for el in vectorized_text_plain_train[0]:\n",
    "    pos = el.numpy()\n",
    "    word += vocab[pos] + ' '\n",
    "word.strip()   #remove leading and trailing whitespaces\n",
    "print(\"Actual sentence => \",text_plain_train[0])\n",
    "print(\"Decoded => \",word)\n",
    "\n",
    "print(\"########################\")\n",
    "encoder_im = info_subwords.features[\"text\"].encoder\n",
    "for x in imdb_subwords[\"train\"].take(1):\n",
    "    print(encoder_im.decode(x[0]))"
   ]
  },
  {
   "cell_type": "code",
   "execution_count": 14,
   "metadata": {},
   "outputs": [],
   "source": [
    "imdb_subwords_train_ds = imdb_subwords[\"train\"]\n",
    "imdb_subwords_train_ds = imdb_subwords_train_ds.shuffle(buffer_size=25000)\n",
    "imdb_subwords_train_ds = imdb_subwords_train_ds.padded_batch(batch_size=256) #Bigger batch (256) for LSTM. ELse 64\n",
    "\n",
    "imdb_subwords_test_ds = imdb_subwords[\"test\"]\n",
    "imdb_subwords_test_ds = imdb_subwords_test_ds.padded_batch(batch_size=256) #Bigger batch (256) for LSTM. ELse 64"
   ]
  },
  {
   "cell_type": "markdown",
   "metadata": {},
   "source": [
    "## Model (Deep Neural Network) : Build, compile and train"
   ]
  },
  {
   "cell_type": "code",
   "execution_count": 15,
   "metadata": {},
   "outputs": [
    {
     "name": "stdout",
     "output_type": "stream",
     "text": [
      "Model: \"sequential_1\"\n",
      "_________________________________________________________________\n",
      " Layer (type)                Output Shape              Param #   \n",
      "=================================================================\n",
      " embedding_1 (Embedding)     (None, None, 64)          523840    \n",
      "                                                                 \n",
      " global_average_pooling1d (G  (None, 64)               0         \n",
      " lobalAveragePooling1D)                                          \n",
      "                                                                 \n",
      " dense_2 (Dense)             (None, 6)                 390       \n",
      "                                                                 \n",
      " dense_3 (Dense)             (None, 1)                 7         \n",
      "                                                                 \n",
      "=================================================================\n",
      "Total params: 524,237\n",
      "Trainable params: 524,237\n",
      "Non-trainable params: 0\n",
      "_________________________________________________________________\n"
     ]
    }
   ],
   "source": [
    "imdb_subwords_pool_model = tf.keras.Sequential([\n",
    "    tf.keras.layers.Embedding(input_dim=encoder_im.vocab_size,output_dim=64),\n",
    "\n",
    "    tf.keras.layers.GlobalAveragePooling1D(),\n",
    "    tf.keras.layers.Dense(units=6,activation='relu'),\n",
    "    tf.keras.layers.Dense(units=1,activation='sigmoid')\n",
    "])\n",
    "\n",
    "imdb_subwords_pool_model.compile(optimizer='adam',\n",
    "                   loss='binary_crossentropy',\n",
    "                   metrics=['accuracy'])\n",
    "\n",
    "imdb_subwords_pool_model.summary()"
   ]
  },
  {
   "cell_type": "code",
   "execution_count": 16,
   "metadata": {},
   "outputs": [
    {
     "name": "stdout",
     "output_type": "stream",
     "text": [
      "Epoch 1/10\n",
      "98/98 [==============================] - 14s 133ms/step - loss: 0.6919 - accuracy: 0.5418 - val_loss: 0.6901 - val_accuracy: 0.5364\n",
      "Epoch 2/10\n",
      "98/98 [==============================] - 13s 127ms/step - loss: 0.6849 - accuracy: 0.6376 - val_loss: 0.6774 - val_accuracy: 0.6770\n",
      "Epoch 3/10\n",
      "98/98 [==============================] - 13s 133ms/step - loss: 0.6577 - accuracy: 0.7105 - val_loss: 0.6335 - val_accuracy: 0.7409\n",
      "Epoch 4/10\n",
      "98/98 [==============================] - 13s 128ms/step - loss: 0.5900 - accuracy: 0.7678 - val_loss: 0.5592 - val_accuracy: 0.7842\n",
      "Epoch 5/10\n",
      "98/98 [==============================] - 12s 121ms/step - loss: 0.5116 - accuracy: 0.8100 - val_loss: 0.4913 - val_accuracy: 0.8165\n",
      "Epoch 6/10\n",
      "98/98 [==============================] - 13s 128ms/step - loss: 0.4425 - accuracy: 0.8444 - val_loss: 0.4394 - val_accuracy: 0.8356\n",
      "Epoch 7/10\n",
      "98/98 [==============================] - 13s 129ms/step - loss: 0.3904 - accuracy: 0.8662 - val_loss: 0.4110 - val_accuracy: 0.8308\n",
      "Epoch 8/10\n",
      "98/98 [==============================] - 13s 127ms/step - loss: 0.3490 - accuracy: 0.8829 - val_loss: 0.3730 - val_accuracy: 0.8608\n",
      "Epoch 9/10\n",
      "98/98 [==============================] - 12s 123ms/step - loss: 0.3198 - accuracy: 0.8919 - val_loss: 0.3547 - val_accuracy: 0.8653\n",
      "Epoch 10/10\n",
      "98/98 [==============================] - 14s 135ms/step - loss: 0.2971 - accuracy: 0.8969 - val_loss: 0.3428 - val_accuracy: 0.8666\n"
     ]
    }
   ],
   "source": [
    "imdb_subwords_pool_model_hist = imdb_subwords_pool_model.fit(imdb_subwords_train_ds,\n",
    "               epochs=10,\n",
    "               validation_data=imdb_subwords_test_ds)"
   ]
  },
  {
   "cell_type": "markdown",
   "metadata": {},
   "source": [
    "## Visualize Results"
   ]
  },
  {
   "cell_type": "code",
   "execution_count": 17,
   "metadata": {},
   "outputs": [],
   "source": [
    "def plot_graphs(model_hist, string):\n",
    "  plt.plot(model_hist.history[string])\n",
    "  plt.plot(model_hist.history['val_'+string])\n",
    "  plt.xlabel(\"Epochs\")\n",
    "  plt.ylabel(string)\n",
    "  plt.legend([string, 'val_'+string])\n",
    "  plt.show()"
   ]
  },
  {
   "cell_type": "code",
   "execution_count": 18,
   "metadata": {},
   "outputs": [
    {
     "data": {
      "text/plain": "<Figure size 640x480 with 1 Axes>",
      "image/png": "[encoded data removed]"
     },
     "metadata": {},
     "output_type": "display_data"
    },
    {
     "data": {
      "text/plain": "<Figure size 640x480 with 1 Axes>",
      "image/png": "[encoded data removed]"
     },
     "metadata": {},
     "output_type": "display_data"
    }
   ],
   "source": [
    "plot_graphs(imdb_subwords_pool_model_hist, \"accuracy\")\n",
    "plot_graphs(imdb_subwords_pool_model_hist, \"loss\")"
   ]
  }
 ],
 "metadata": {
  "kernelspec": {
   "display_name": "Python 3 (ipykernel)",
   "language": "python",
   "name": "python3"
  },
  "language_info": {
   "codemirror_mode": {
    "name": "ipython",
    "version": 3
   },
   "file_extension": ".py",
   "mimetype": "text/x-python",
   "name": "python",
   "nbconvert_exporter": "python",
   "pygments_lexer": "ipython3",
   "version": "3.8.10"
  }
 },
 "nbformat": 4,
 "nbformat_minor": 1
}
