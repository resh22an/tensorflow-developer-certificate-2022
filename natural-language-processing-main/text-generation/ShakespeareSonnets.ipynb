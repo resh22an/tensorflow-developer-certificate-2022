{
 "nbformat": 4,
 "nbformat_minor": 0,
 "metadata": {
  "colab": {
   "provenance": [],
   "collapsed_sections": [],
   "authorship_tag": "ABX9TyPqVoocKWASJiXk9Ukf7zCR"
  },
  "kernelspec": {
   "name": "python3",
   "display_name": "Python 3"
  },
  "language_info": {
   "name": "python"
  },
  "accelerator": "GPU",
  "gpuClass": "standard"
 },
 "cells": [
  {
   "cell_type": "code",
   "execution_count": 1,
   "metadata": {
    "colab": {
     "base_uri": "https://localhost:8080/"
    },
    "id": "wYjaTWneRhs2",
    "executionInfo": {
     "status": "ok",
     "timestamp": 1666368916385,
     "user_tz": -330,
     "elapsed": 26431,
     "user": {
      "displayName": "Reshma T",
      "userId": "00141722778450842601"
     }
    },
    "outputId": "d436efb3-cd60-4a0e-8326-1ffda80b22af"
   },
   "outputs": [
    {
     "output_type": "stream",
     "name": "stdout",
     "text": [
      "Mounted at /content/gdrive/\n"
     ]
    }
   ],
   "source": [
    "#from google.colab import drive\n",
    "#drive.mount('/content/gdrive/')"
   ]
  },
  {
   "cell_type": "code",
   "source": [
    "import tensorflow as tf\n",
    "import numpy as np\n",
    "np.set_printoptions(suppress=True)\n",
    "import matplotlib.pyplot as plt"
   ],
   "metadata": {
    "id": "_JijW5EURwYg",
    "executionInfo": {
     "status": "ok",
     "timestamp": 1666368919226,
     "user_tz": -330,
     "elapsed": 2844,
     "user": {
      "displayName": "Reshma T",
      "userId": "00141722778450842601"
     }
    }
   },
   "execution_count": 2,
   "outputs": []
  },
  {
   "cell_type": "markdown",
   "source": [
    "## Load dataset"
   ],
   "metadata": {
    "id": "V-f8ocC1R5yC"
   }
  },
  {
   "cell_type": "code",
   "source": [
    "# sonnets.txt\n",
    "#!gdown --id 108jAePKK4R3BVYBbYJZ32JWUwxeMg20K"
   ],
   "metadata": {
    "id": "B7XXSfI8R5Vg",
    "executionInfo": {
     "status": "ok",
     "timestamp": 1666368919226,
     "user_tz": -330,
     "elapsed": 17,
     "user": {
      "displayName": "Reshma T",
      "userId": "00141722778450842601"
     }
    }
   },
   "execution_count": 3,
   "outputs": []
  },
  {
   "cell_type": "code",
   "source": [
    "with open('Datasets/sonnets.txt') as f:\n",
    "    sonnets = f.read()\n",
    "\n",
    "sonnets_list = sonnets.lower().split(\"\\n\")\n",
    "print(len(sonnets_list))\n",
    "sonnets_list[:10]"
   ],
   "metadata": {
    "colab": {
     "base_uri": "https://localhost:8080/"
    },
    "id": "B_X85ZauR_58",
    "executionInfo": {
     "status": "ok",
     "timestamp": 1666368921543,
     "user_tz": -330,
     "elapsed": 2333,
     "user": {
      "displayName": "Reshma T",
      "userId": "00141722778450842601"
     }
    },
    "outputId": "a62b8033-b7a1-4bed-940b-d37c58d71969"
   },
   "execution_count": 4,
   "outputs": [
    {
     "output_type": "stream",
     "name": "stdout",
     "text": [
      "2159\n"
     ]
    },
    {
     "output_type": "execute_result",
     "data": {
      "text/plain": [
       "['from fairest creatures we desire increase,',\n",
       " \"that thereby beauty's rose might never die,\",\n",
       " 'but as the riper should by time decease,',\n",
       " 'his tender heir might bear his memory:',\n",
       " 'but thou, contracted to thine own bright eyes,',\n",
       " \"feed'st thy light'st flame with self-substantial fuel,\",\n",
       " 'making a famine where abundance lies,',\n",
       " 'thyself thy foe, to thy sweet self too cruel.',\n",
       " \"thou that art now the world's fresh ornament\",\n",
       " 'and only herald to the gaudy spring,']"
      ]
     },
     "metadata": {},
     "execution_count": 4
    }
   ]
  },
  {
   "cell_type": "markdown",
   "source": [
    "## Text preprocessing"
   ],
   "metadata": {
    "id": "5xt8sS1STDI1"
   }
  },
  {
   "cell_type": "code",
   "source": [
    "vec_layer_sonnets = tf.keras.layers.TextVectorization()\n",
    "vec_layer_sonnets.adapt(sonnets_list)\n",
    "vectorized_sonnets = vec_layer_sonnets(sonnets_list)\n",
    "vocab_size = vec_layer_sonnets.vocabulary_size()\n",
    "print(vocab_size,vectorized_sonnets.shape)\n",
    "vec_layer_sonnets.get_vocabulary()[:10]"
   ],
   "metadata": {
    "colab": {
     "base_uri": "https://localhost:8080/"
    },
    "id": "ulchTrjWSuhj",
    "executionInfo": {
     "status": "ok",
     "timestamp": 1666368924954,
     "user_tz": -330,
     "elapsed": 3413,
     "user": {
      "displayName": "Reshma T",
      "userId": "00141722778450842601"
     }
    },
    "outputId": "5cfcedec-558d-4ddf-bded-43c526b1b042"
   },
   "execution_count": 5,
   "outputs": [
    {
     "output_type": "stream",
     "name": "stdout",
     "text": [
      "3189 (2159, 11)\n"
     ]
    },
    {
     "output_type": "execute_result",
     "data": {
      "text/plain": [
       "['', '[UNK]', 'and', 'the', 'to', 'of', 'my', 'i', 'in', 'that']"
      ]
     },
     "metadata": {},
     "execution_count": 5
    }
   ]
  },
  {
   "cell_type": "code",
   "source": [
    "def pad_vectorized_sequences(inp_text,vec_layer,output_rows,output_cols):\n",
    "    phrases = np.zeros(shape=(output_rows,output_cols))\n",
    "    labels = np.zeros(shape=(output_rows,1))\n",
    "    row = 0\n",
    "    for line in inp_text:\n",
    "        words = line.split()\n",
    "        for num_words in range(1,len(words)):\n",
    "            phr = ''\n",
    "            for i in range(num_words+1):\n",
    "                phr += words[i] + ' '\n",
    "            phr = phr.strip() #Strip trailing and leading whitespaces\n",
    "            vec_phrase = list(vec_layer(phr).numpy())\n",
    "            cols = len(vec_phrase)-1\n",
    "            phrases[row,:cols] = vec_phrase[0:-1]\n",
    "            labels[row] = vec_phrase[-1]\n",
    "            row += 1\n",
    "    return phrases,labels\n",
    "\n",
    "total_phrase_count = 0\n",
    "for line in sonnets_list:\n",
    "    total_phrase_count += len(line.split()) - 1\n",
    "total_phrase_count += 3 ######### Dont know why- Need to debug\n",
    "line_length = vectorized_sonnets.shape[1]\n",
    "print(\"Output Seq length = \",line_length)\n",
    "print(\"Total no.of phrases = \",total_phrase_count)\n",
    "\n",
    "phrases,labels = pad_vectorized_sequences(sonnets_list,vec_layer_sonnets,total_phrase_count,line_length)\n",
    "print(phrases.shape,labels.shape)\n",
    "print(phrases[:3])\n",
    "print(labels[:3])"
   ],
   "metadata": {
    "colab": {
     "base_uri": "https://localhost:8080/"
    },
    "id": "3dc9s1b9TP6p",
    "executionInfo": {
     "status": "ok",
     "timestamp": 1666370053662,
     "user_tz": -330,
     "elapsed": 84376,
     "user": {
      "displayName": "Reshma T",
      "userId": "00141722778450842601"
     }
    },
    "outputId": "fa99afa6-a673-4aaa-c374-16fcd8b837b7"
   },
   "execution_count": 17,
   "outputs": [
    {
     "output_type": "stream",
     "name": "stdout",
     "text": [
      "Output Seq length =  11\n",
      "Total no.of phrases =  15355\n",
      "(15355, 11) (15355, 1)\n",
      "[[  35.    0.    0.    0.    0.    0.    0.    0.    0.    0.    0.]\n",
      " [  35.  489.    0.    0.    0.    0.    0.    0.    0.    0.    0.]\n",
      " [  35.  489. 1259.    0.    0.    0.    0.    0.    0.    0.    0.]]\n",
      "[[ 489.]\n",
      " [1259.]\n",
      " [ 164.]]\n"
     ]
    }
   ]
  },
  {
   "cell_type": "code",
   "source": [
    "def test_labelgen(check_input):\n",
    "    vec_inp = []\n",
    "    vec_inp_arr = np.zeros(shape=(1,line_length))\n",
    "    for word in check_input.lower().split():\n",
    "        code = vec_layer_sonnets.get_vocabulary().index(word)\n",
    "        vec_inp.append(code)\n",
    "    col = len(vec_inp)\n",
    "    vec_inp_arr[0,:col] = np.array(vec_inp)\n",
    "\n",
    "    inp_idx = None\n",
    "    row = 0\n",
    "    for phr in phrases:\n",
    "        j = 0\n",
    "        for i in range(len(phr)):\n",
    "            if vec_inp_arr[0,i] == phr[i]:\n",
    "                j +=1\n",
    "        if j == len(phr):\n",
    "            inp_idx = row\n",
    "            break\n",
    "        row += 1\n",
    "    print(inp_idx,\"=>\",phrases[inp_idx])\n",
    "    check_label = int(labels[inp_idx,0])\n",
    "    return vec_layer_sonnets.get_vocabulary()[check_label]\n",
    "\n",
    "test_labelgen('and only herald to the gaudy')"
   ],
   "metadata": {
    "colab": {
     "base_uri": "https://localhost:8080/",
     "height": 55
    },
    "id": "LP7IuJlvVw4b",
    "executionInfo": {
     "status": "ok",
     "timestamp": 1666370132900,
     "user_tz": -330,
     "elapsed": 7,
     "user": {
      "displayName": "Reshma T",
      "userId": "00141722778450842601"
     }
    },
    "outputId": "93cf4c30-77c3-4021-be68-6e801279ddd7"
   },
   "execution_count": 21,
   "outputs": [
    {
     "output_type": "stream",
     "name": "stdout",
     "text": [
      "62 => [   2.  376. 2433.    4.    3. 2514.    0.    0.    0.    0.    0.]\n"
     ]
    },
    {
     "output_type": "execute_result",
     "data": {
      "text/plain": [
       "'spring'"
      ],
      "application/vnd.google.colaboratory.intrinsic+json": {
       "type": "string"
      }
     },
     "metadata": {},
     "execution_count": 21
    }
   ]
  },
  {
   "cell_type": "code",
   "source": [
    "# One-hot encoding of labels\n",
    "labels_categ = tf.keras.utils.to_categorical(y=labels,num_classes=vocab_size) #Any word in the Vocabulary can be the label (as text gets generated in the future)\n",
    "print(labels_categ.shape)\n",
    "print(labels_categ[0])"
   ],
   "metadata": {
    "colab": {
     "base_uri": "https://localhost:8080/"
    },
    "id": "VChLTAt7ZfbC",
    "executionInfo": {
     "status": "ok",
     "timestamp": 1666370156134,
     "user_tz": -330,
     "elapsed": 3,
     "user": {
      "displayName": "Reshma T",
      "userId": "00141722778450842601"
     }
    },
    "outputId": "c84e093e-9600-4de0-f8b2-a52a677ef673"
   },
   "execution_count": 22,
   "outputs": [
    {
     "output_type": "stream",
     "name": "stdout",
     "text": [
      "(15355, 3189)\n",
      "[0. 0. 0. ... 0. 0. 0.]\n"
     ]
    }
   ]
  },
  {
   "cell_type": "markdown",
   "source": [
    "## Model"
   ],
   "metadata": {
    "id": "aVFwA9oeaAf1"
   }
  },
  {
   "cell_type": "code",
   "source": [
    "sonnets_model = tf.keras.Sequential([\n",
    "    tf.keras.layers.Embedding(input_dim=vocab_size,output_dim=100,input_length=line_length),\n",
    "\n",
    "    tf.keras.layers.Bidirectional(tf.keras.layers.LSTM(units=250)), #activation='tanh'\n",
    "\n",
    "    tf.keras.layers.Dense(units=vocab_size,activation='softmax')\n",
    "])\n",
    "\n",
    "sonnets_model.compile(optimizer=tf.keras.optimizers.Adam(learning_rate=0.001),\n",
    "                   loss='categorical_crossentropy',\n",
    "                   metrics=['accuracy'])\n",
    "\n",
    "sonnets_model.summary()"
   ],
   "metadata": {
    "colab": {
     "base_uri": "https://localhost:8080/"
    },
    "id": "g1vqYsENZq86",
    "executionInfo": {
     "status": "ok",
     "timestamp": 1666374014242,
     "user_tz": -330,
     "elapsed": 762,
     "user": {
      "displayName": "Reshma T",
      "userId": "00141722778450842601"
     }
    },
    "outputId": "81937215-ebee-408e-90ca-df9dbeb89856"
   },
   "execution_count": 43,
   "outputs": [
    {
     "output_type": "stream",
     "name": "stdout",
     "text": [
      "Model: \"sequential_7\"\n",
      "_________________________________________________________________\n",
      " Layer (type)                Output Shape              Param #   \n",
      "=================================================================\n",
      " embedding_7 (Embedding)     (None, 11, 100)           318900    \n",
      "                                                                 \n",
      " bidirectional_7 (Bidirectio  (None, 500)              702000    \n",
      " nal)                                                            \n",
      "                                                                 \n",
      " dense_7 (Dense)             (None, 3189)              1597689   \n",
      "                                                                 \n",
      "=================================================================\n",
      "Total params: 2,618,589\n",
      "Trainable params: 2,618,589\n",
      "Non-trainable params: 0\n",
      "_________________________________________________________________\n"
     ]
    }
   ]
  },
  {
   "cell_type": "code",
   "source": [
    "sonnets_model_hist = sonnets_model.fit(x=phrases,y=labels_categ,epochs=50)"
   ],
   "metadata": {
    "colab": {
     "base_uri": "https://localhost:8080/"
    },
    "id": "fKTkfJlAaFLl",
    "executionInfo": {
     "status": "ok",
     "timestamp": 1666374198933,
     "user_tz": -330,
     "elapsed": 182382,
     "user": {
      "displayName": "Reshma T",
      "userId": "00141722778450842601"
     }
    },
    "outputId": "6aa048b7-917a-4ee0-b838-51e50106d38b"
   },
   "execution_count": 44,
   "outputs": [
    {
     "output_type": "stream",
     "name": "stdout",
     "text": [
      "Epoch 1/50\n",
      "480/480 [==============================] - 6s 8ms/step - loss: 6.8828 - accuracy: 0.0209\n",
      "Epoch 2/50\n",
      "480/480 [==============================] - 3s 7ms/step - loss: 6.5077 - accuracy: 0.0274\n",
      "Epoch 3/50\n",
      "480/480 [==============================] - 4s 7ms/step - loss: 6.3322 - accuracy: 0.0317\n",
      "Epoch 4/50\n",
      "480/480 [==============================] - 4s 7ms/step - loss: 6.0963 - accuracy: 0.0402\n",
      "Epoch 5/50\n",
      "480/480 [==============================] - 4s 8ms/step - loss: 5.7883 - accuracy: 0.0526\n",
      "Epoch 6/50\n",
      "480/480 [==============================] - 4s 7ms/step - loss: 5.3463 - accuracy: 0.0683\n",
      "Epoch 7/50\n",
      "480/480 [==============================] - 3s 7ms/step - loss: 4.7608 - accuracy: 0.0981\n",
      "Epoch 8/50\n",
      "480/480 [==============================] - 4s 7ms/step - loss: 4.0871 - accuracy: 0.1642\n",
      "Epoch 9/50\n",
      "480/480 [==============================] - 3s 7ms/step - loss: 3.4050 - accuracy: 0.2766\n",
      "Epoch 10/50\n",
      "480/480 [==============================] - 4s 7ms/step - loss: 2.8186 - accuracy: 0.3826\n",
      "Epoch 11/50\n",
      "480/480 [==============================] - 4s 7ms/step - loss: 2.3301 - accuracy: 0.4816\n",
      "Epoch 12/50\n",
      "480/480 [==============================] - 4s 7ms/step - loss: 1.9425 - accuracy: 0.5730\n",
      "Epoch 13/50\n",
      "480/480 [==============================] - 4s 8ms/step - loss: 1.6302 - accuracy: 0.6413\n",
      "Epoch 14/50\n",
      "480/480 [==============================] - 4s 9ms/step - loss: 1.3855 - accuracy: 0.7000\n",
      "Epoch 15/50\n",
      "480/480 [==============================] - 4s 7ms/step - loss: 1.1896 - accuracy: 0.7464\n",
      "Epoch 16/50\n",
      "480/480 [==============================] - 4s 7ms/step - loss: 1.0453 - accuracy: 0.7798\n",
      "Epoch 17/50\n",
      "480/480 [==============================] - 4s 7ms/step - loss: 0.9273 - accuracy: 0.8027\n",
      "Epoch 18/50\n",
      "480/480 [==============================] - 4s 7ms/step - loss: 0.8527 - accuracy: 0.8180\n",
      "Epoch 19/50\n",
      "480/480 [==============================] - 4s 7ms/step - loss: 0.7985 - accuracy: 0.8251\n",
      "Epoch 20/50\n",
      "480/480 [==============================] - 4s 7ms/step - loss: 0.7535 - accuracy: 0.8325\n",
      "Epoch 21/50\n",
      "480/480 [==============================] - 4s 7ms/step - loss: 0.7210 - accuracy: 0.8387\n",
      "Epoch 22/50\n",
      "480/480 [==============================] - 4s 8ms/step - loss: 0.7017 - accuracy: 0.8389\n",
      "Epoch 23/50\n",
      "480/480 [==============================] - 4s 7ms/step - loss: 0.6869 - accuracy: 0.8410\n",
      "Epoch 24/50\n",
      "480/480 [==============================] - 4s 7ms/step - loss: 0.6812 - accuracy: 0.8404\n",
      "Epoch 25/50\n",
      "480/480 [==============================] - 4s 7ms/step - loss: 0.6714 - accuracy: 0.8416\n",
      "Epoch 26/50\n",
      "480/480 [==============================] - 4s 7ms/step - loss: 0.6578 - accuracy: 0.8444\n",
      "Epoch 27/50\n",
      "480/480 [==============================] - 4s 7ms/step - loss: 0.6392 - accuracy: 0.8451\n",
      "Epoch 28/50\n",
      "480/480 [==============================] - 4s 7ms/step - loss: 0.6309 - accuracy: 0.8438\n",
      "Epoch 29/50\n",
      "480/480 [==============================] - 4s 7ms/step - loss: 0.6239 - accuracy: 0.8450\n",
      "Epoch 30/50\n",
      "480/480 [==============================] - 4s 8ms/step - loss: 0.6164 - accuracy: 0.8477\n",
      "Epoch 31/50\n",
      "480/480 [==============================] - 4s 7ms/step - loss: 0.6186 - accuracy: 0.8437\n",
      "Epoch 32/50\n",
      "480/480 [==============================] - 3s 7ms/step - loss: 0.6154 - accuracy: 0.8446\n",
      "Epoch 33/50\n",
      "480/480 [==============================] - 4s 7ms/step - loss: 0.6171 - accuracy: 0.8444\n",
      "Epoch 34/50\n",
      "480/480 [==============================] - 3s 7ms/step - loss: 0.6056 - accuracy: 0.8445\n",
      "Epoch 35/50\n",
      "480/480 [==============================] - 4s 7ms/step - loss: 0.5934 - accuracy: 0.8460\n",
      "Epoch 36/50\n",
      "480/480 [==============================] - 3s 7ms/step - loss: 0.5914 - accuracy: 0.8458\n",
      "Epoch 37/50\n",
      "480/480 [==============================] - 4s 7ms/step - loss: 0.5858 - accuracy: 0.8470\n",
      "Epoch 38/50\n",
      "480/480 [==============================] - 4s 7ms/step - loss: 0.5812 - accuracy: 0.8471\n",
      "Epoch 39/50\n",
      "480/480 [==============================] - 4s 7ms/step - loss: 0.5788 - accuracy: 0.8471\n",
      "Epoch 40/50\n",
      "480/480 [==============================] - 4s 7ms/step - loss: 0.5832 - accuracy: 0.8457\n",
      "Epoch 41/50\n",
      "480/480 [==============================] - 4s 7ms/step - loss: 0.5806 - accuracy: 0.8460\n",
      "Epoch 42/50\n",
      "480/480 [==============================] - 3s 7ms/step - loss: 0.5782 - accuracy: 0.8462\n",
      "Epoch 43/50\n",
      "480/480 [==============================] - 3s 7ms/step - loss: 0.5788 - accuracy: 0.8440\n",
      "Epoch 44/50\n",
      "480/480 [==============================] - 4s 9ms/step - loss: 0.5642 - accuracy: 0.8474\n",
      "Epoch 45/50\n",
      "480/480 [==============================] - 3s 7ms/step - loss: 0.5599 - accuracy: 0.8479\n",
      "Epoch 46/50\n",
      "480/480 [==============================] - 3s 7ms/step - loss: 0.5601 - accuracy: 0.8475\n",
      "Epoch 47/50\n",
      "480/480 [==============================] - 4s 7ms/step - loss: 0.5581 - accuracy: 0.8473\n",
      "Epoch 48/50\n",
      "480/480 [==============================] - 4s 7ms/step - loss: 0.5713 - accuracy: 0.8444\n",
      "Epoch 49/50\n",
      "480/480 [==============================] - 4s 7ms/step - loss: 0.5620 - accuracy: 0.8461\n",
      "Epoch 50/50\n",
      "480/480 [==============================] - 4s 8ms/step - loss: 0.5519 - accuracy: 0.8457\n"
     ]
    }
   ]
  },
  {
   "cell_type": "code",
   "source": [
    "def plot_graphs(model_hist, string):\n",
    "  plt.plot(model_hist.history[string])\n",
    "  #plt.plot(model_hist.history['val_'+string])\n",
    "  plt.xlabel(\"Epochs\")\n",
    "  plt.ylabel(string)\n",
    "  #plt.legend([string, 'val_'+string])\n",
    "  plt.show()\n",
    "\n",
    "# Plot the accuracy and loss\n",
    "plot_graphs(sonnets_model_hist, \"accuracy\")\n",
    "plot_graphs(sonnets_model_hist, \"loss\")"
   ],
   "metadata": {
    "colab": {
     "base_uri": "https://localhost:8080/",
     "height": 541
    },
    "id": "3JIlEVJgaMCU",
    "executionInfo": {
     "status": "ok",
     "timestamp": 1666374203179,
     "user_tz": -330,
     "elapsed": 712,
     "user": {
      "displayName": "Reshma T",
      "userId": "00141722778450842601"
     }
    },
    "outputId": "aeaf0e05-989c-4266-90f6-2a4077998ccf"
   },
   "execution_count": 45,
   "outputs": [
    {
     "output_type": "display_data",
     "data": {
      "text/plain": [
       "<Figure size 432x288 with 1 Axes>"
      ],
      "image/png": "[encoded data removed]"
     },
     "metadata": {
      "needs_background": "light"
     }
    },
    {
     "output_type": "display_data",
     "data": {
      "text/plain": [
       "<Figure size 432x288 with 1 Axes>"
      ],
      "image/png": "[encoded data removed]"
     },
     "metadata": {
      "needs_background": "light"
     }
    }
   ]
  },
  {
   "cell_type": "markdown",
   "source": [
    "## Text Generation"
   ],
   "metadata": {
    "id": "z73QPzfVbKcE"
   }
  },
  {
   "cell_type": "code",
   "source": [
    "starter_text = \"Honey went to Dublin\"\n",
    "num_words_to_predict = 100\n",
    "\n",
    "for i in range(num_words_to_predict):\n",
    "    veczd_starter_text = np.zeros(shape=(vocab_size))\n",
    "    vec_txt = vec_layer_sonnets(starter_text).numpy()\n",
    "    veczd_starter_text[:len(vec_txt)] = vec_txt\n",
    "    veczd_starter_text = veczd_starter_text.reshape(-1,vocab_size)\n",
    "\n",
    "    prob = sonnets_model.predict(veczd_starter_text)\n",
    "    prob_idx = np.argmax(prob)\n",
    "    predicted_word = vec_layer_sonnets.get_vocabulary()[prob_idx]\n",
    "\n",
    "    starter_text += ' ' + predicted_word\n",
    "\n",
    "print(starter_text)"
   ],
   "metadata": {
    "colab": {
     "base_uri": "https://localhost:8080/"
    },
    "id": "lhDqklcgbLyH",
    "executionInfo": {
     "status": "ok",
     "timestamp": 1666374639681,
     "user_tz": -330,
     "elapsed": 26271,
     "user": {
      "displayName": "Reshma T",
      "userId": "00141722778450842601"
     }
    },
    "outputId": "0df84a31-7e05-4d6a-b9f8-3cba986b2d7e"
   },
   "execution_count": 58,
   "outputs": [
    {
     "output_type": "stream",
     "name": "stdout",
     "text": [
      "1/1 [==============================] - 0s 201ms/step\n",
      "1/1 [==============================] - 0s 201ms/step\n",
      "1/1 [==============================] - 0s 188ms/step\n",
      "1/1 [==============================] - 0s 203ms/step\n",
      "1/1 [==============================] - 0s 205ms/step\n",
      "1/1 [==============================] - 0s 192ms/step\n",
      "1/1 [==============================] - 0s 195ms/step\n",
      "1/1 [==============================] - 0s 200ms/step\n",
      "1/1 [==============================] - 0s 202ms/step\n",
      "1/1 [==============================] - 0s 190ms/step\n",
      "1/1 [==============================] - 0s 220ms/step\n",
      "1/1 [==============================] - 0s 233ms/step\n",
      "1/1 [==============================] - 0s 210ms/step\n",
      "1/1 [==============================] - 0s 212ms/step\n",
      "1/1 [==============================] - 0s 207ms/step\n",
      "1/1 [==============================] - 0s 219ms/step\n",
      "1/1 [==============================] - 0s 195ms/step\n",
      "1/1 [==============================] - 0s 199ms/step\n",
      "1/1 [==============================] - 0s 201ms/step\n",
      "1/1 [==============================] - 0s 202ms/step\n",
      "1/1 [==============================] - 0s 211ms/step\n",
      "1/1 [==============================] - 0s 209ms/step\n",
      "1/1 [==============================] - 0s 202ms/step\n",
      "1/1 [==============================] - 0s 190ms/step\n",
      "1/1 [==============================] - 0s 196ms/step\n",
      "1/1 [==============================] - 0s 197ms/step\n",
      "1/1 [==============================] - 0s 191ms/step\n",
      "1/1 [==============================] - 0s 191ms/step\n",
      "1/1 [==============================] - 0s 199ms/step\n",
      "1/1 [==============================] - 0s 199ms/step\n",
      "1/1 [==============================] - 1s 566ms/step\n",
      "1/1 [==============================] - 0s 197ms/step\n",
      "1/1 [==============================] - 0s 215ms/step\n",
      "1/1 [==============================] - 0s 189ms/step\n",
      "1/1 [==============================] - 0s 193ms/step\n",
      "1/1 [==============================] - 0s 204ms/step\n",
      "1/1 [==============================] - 0s 199ms/step\n",
      "1/1 [==============================] - 0s 187ms/step\n",
      "1/1 [==============================] - 0s 193ms/step\n",
      "1/1 [==============================] - 0s 208ms/step\n",
      "1/1 [==============================] - 0s 193ms/step\n",
      "1/1 [==============================] - 0s 192ms/step\n",
      "1/1 [==============================] - 0s 200ms/step\n",
      "1/1 [==============================] - 0s 205ms/step\n",
      "1/1 [==============================] - 0s 189ms/step\n",
      "1/1 [==============================] - 0s 200ms/step\n",
      "1/1 [==============================] - 0s 198ms/step\n",
      "1/1 [==============================] - 0s 200ms/step\n",
      "1/1 [==============================] - 0s 192ms/step\n",
      "1/1 [==============================] - 0s 193ms/step\n",
      "1/1 [==============================] - 0s 196ms/step\n",
      "1/1 [==============================] - 0s 192ms/step\n",
      "1/1 [==============================] - 0s 196ms/step\n",
      "1/1 [==============================] - 0s 199ms/step\n",
      "1/1 [==============================] - 0s 194ms/step\n",
      "1/1 [==============================] - 0s 189ms/step\n",
      "1/1 [==============================] - 0s 424ms/step\n",
      "1/1 [==============================] - 0s 199ms/step\n",
      "1/1 [==============================] - 0s 184ms/step\n",
      "1/1 [==============================] - 0s 471ms/step\n",
      "1/1 [==============================] - 0s 194ms/step\n",
      "1/1 [==============================] - 0s 192ms/step\n",
      "1/1 [==============================] - 0s 340ms/step\n",
      "1/1 [==============================] - 1s 504ms/step\n",
      "1/1 [==============================] - 0s 211ms/step\n",
      "1/1 [==============================] - 0s 197ms/step\n",
      "1/1 [==============================] - 0s 486ms/step\n",
      "1/1 [==============================] - 0s 205ms/step\n",
      "1/1 [==============================] - 0s 195ms/step\n",
      "1/1 [==============================] - 0s 192ms/step\n",
      "1/1 [==============================] - 0s 203ms/step\n",
      "1/1 [==============================] - 0s 207ms/step\n",
      "1/1 [==============================] - 0s 190ms/step\n",
      "1/1 [==============================] - 0s 192ms/step\n",
      "1/1 [==============================] - 0s 198ms/step\n",
      "1/1 [==============================] - 0s 199ms/step\n",
      "1/1 [==============================] - 0s 197ms/step\n",
      "1/1 [==============================] - 0s 192ms/step\n",
      "1/1 [==============================] - 0s 196ms/step\n",
      "1/1 [==============================] - 0s 186ms/step\n",
      "1/1 [==============================] - 0s 198ms/step\n",
      "1/1 [==============================] - 0s 199ms/step\n",
      "1/1 [==============================] - 0s 195ms/step\n",
      "1/1 [==============================] - 0s 191ms/step\n",
      "1/1 [==============================] - 0s 200ms/step\n",
      "1/1 [==============================] - 0s 197ms/step\n",
      "1/1 [==============================] - 0s 183ms/step\n",
      "1/1 [==============================] - 0s 190ms/step\n",
      "1/1 [==============================] - 0s 195ms/step\n",
      "1/1 [==============================] - 0s 195ms/step\n",
      "1/1 [==============================] - 0s 196ms/step\n",
      "1/1 [==============================] - 0s 191ms/step\n",
      "1/1 [==============================] - 0s 199ms/step\n",
      "1/1 [==============================] - 0s 199ms/step\n",
      "1/1 [==============================] - 0s 191ms/step\n",
      "1/1 [==============================] - 0s 194ms/step\n",
      "1/1 [==============================] - 0s 198ms/step\n",
      "1/1 [==============================] - 0s 204ms/step\n",
      "1/1 [==============================] - 0s 197ms/step\n",
      "1/1 [==============================] - 0s 203ms/step\n",
      "Honey went to Dublin the praise at a must have by their no and no must eyes make to is but praise no must see yield praise no fell present have air in by by by mine is in must date from to yield in the must weeds doth doth is for their must praise doth their have at by from praise must must each must their must the doth weeds their weeds their must must doth the the the each their their their the strengthend by must must their their their is their their make have have have must must must must the\n"
     ]
    }
   ]
  }
 ]
}
